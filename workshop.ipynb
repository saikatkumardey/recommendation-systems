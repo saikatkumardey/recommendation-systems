{
 "cells": [
  {
   "cell_type": "markdown",
   "metadata": {},
   "source": [
    "# Recommendation Systems"
   ]
  },
  {
   "cell_type": "markdown",
   "metadata": {},
   "source": [
    "# Outline\n",
    "\n",
    "1. What are Recommendation Systems?\n",
    "2. Why do we need Recommendation Systems?\n",
    "3. Applications of Recommendation Systems in products that we use daily ?\n",
    "    + Ecommerce sites: Amazon/Flipkart\n",
    "    + Video Streaming: Netflix/Youtube/Prime Videos\n",
    "    + music streaming: Saavn/Gaana/Spotify\n",
    "    + Book recommendations: Goodreads\n",
    "4. Formal problem statement\n",
    "5. What are the different techniques of building Recommendation Systems?\n",
    "    + Content Based\n",
    "    + Collaborative Filtering\n",
    "    + Hybrid\n",
    "6. Dataset - brief description\n",
    "7. Build recommendation Systems incrementally -\n",
    "    + Recommend most popular items\n",
    "    + item-item similarity recommendation\n",
    "    + user-user similarity recommendation\n",
    "    + Matrix-Factorization based recommendation\n",
    "8. Problems with recommendation systems in general."
   ]
  },
  {
   "cell_type": "code",
   "execution_count": null,
   "metadata": {},
   "outputs": [],
   "source": []
  },
  {
   "cell_type": "markdown",
   "metadata": {},
   "source": [
    "# Use Cases"
   ]
  },
  {
   "cell_type": "markdown",
   "metadata": {},
   "source": [
    "<img src='images/netflix1.png'>\n",
    "\n",
    "\n",
    "<br>"
   ]
  },
  {
   "cell_type": "markdown",
   "metadata": {},
   "source": [
    "\n",
    "<img src='images/netflix3.png'>"
   ]
  },
  {
   "cell_type": "code",
   "execution_count": null,
   "metadata": {},
   "outputs": [],
   "source": []
  },
  {
   "cell_type": "markdown",
   "metadata": {},
   "source": [
    "<br>\n",
    "\n",
    "<img src='images/amazon.png'>"
   ]
  },
  {
   "cell_type": "code",
   "execution_count": null,
   "metadata": {},
   "outputs": [],
   "source": [
    "\n"
   ]
  },
  {
   "cell_type": "markdown",
   "metadata": {},
   "source": [
    "<br>\n",
    "\n",
    "<img src='images/amazon2.png'>"
   ]
  },
  {
   "cell_type": "code",
   "execution_count": null,
   "metadata": {},
   "outputs": [],
   "source": []
  },
  {
   "cell_type": "markdown",
   "metadata": {},
   "source": [
    "# https://github.com/saikatkumardey/recommendation-systems"
   ]
  },
  {
   "cell_type": "code",
   "execution_count": null,
   "metadata": {},
   "outputs": [],
   "source": []
  },
  {
   "cell_type": "code",
   "execution_count": null,
   "metadata": {},
   "outputs": [],
   "source": []
  },
  {
   "cell_type": "markdown",
   "metadata": {},
   "source": [
    "# The Dataset - Review Apps For Android"
   ]
  },
  {
   "cell_type": "markdown",
   "metadata": {},
   "source": [
    "Download it from http://snap.stanford.edu/data/amazon/productGraph/categoryFiles/reviews_Apps_for_Android_5.json.gz"
   ]
  },
  {
   "cell_type": "code",
   "execution_count": null,
   "metadata": {},
   "outputs": [],
   "source": []
  },
  {
   "cell_type": "code",
   "execution_count": 30,
   "metadata": {},
   "outputs": [],
   "source": [
    "import pandas as pd\n",
    "import gzip\n",
    "from pprint import pprint\n",
    "import matplotlib\n",
    "import numpy as np\n",
    "import matplotlib.pyplot as plt\n",
    "\n",
    "%matplotlib inline"
   ]
  },
  {
   "cell_type": "code",
   "execution_count": 31,
   "metadata": {},
   "outputs": [
    {
     "name": "stdout",
     "output_type": "stream",
     "text": [
      "meta_Apps_for_Android.json.gz       reviews_Apps_for_Android_5.json\n",
      "ratings_Apps_for_Android.csv        reviews_Apps_for_Android_5.json.gz\n",
      "ratings_Movies_and_TV.csv\n"
     ]
    }
   ],
   "source": [
    "ls data"
   ]
  },
  {
   "cell_type": "code",
   "execution_count": 32,
   "metadata": {},
   "outputs": [],
   "source": [
    "#as given in the site\n",
    "\n",
    "def parse(path):\n",
    "  g = gzip.open(path, 'rb')\n",
    "  for l in g:\n",
    "    yield eval(l)\n",
    "\n",
    "def getDF(path):\n",
    "  i = 0\n",
    "  df = {}\n",
    "  for d in parse(path):\n",
    "    df[i] = d\n",
    "    i += 1\n",
    "  return pd.DataFrame.from_dict(df, orient='index')\n"
   ]
  },
  {
   "cell_type": "code",
   "execution_count": 33,
   "metadata": {},
   "outputs": [],
   "source": [
    "df = getDF('data/reviews_Apps_for_Android_5.json.gz')"
   ]
  },
  {
   "cell_type": "code",
   "execution_count": 34,
   "metadata": {},
   "outputs": [
    {
     "data": {
      "text/html": [
       "<div>\n",
       "<style scoped>\n",
       "    .dataframe tbody tr th:only-of-type {\n",
       "        vertical-align: middle;\n",
       "    }\n",
       "\n",
       "    .dataframe tbody tr th {\n",
       "        vertical-align: top;\n",
       "    }\n",
       "\n",
       "    .dataframe thead th {\n",
       "        text-align: right;\n",
       "    }\n",
       "</style>\n",
       "<table border=\"1\" class=\"dataframe\">\n",
       "  <thead>\n",
       "    <tr style=\"text-align: right;\">\n",
       "      <th></th>\n",
       "      <th>reviewerID</th>\n",
       "      <th>asin</th>\n",
       "      <th>reviewerName</th>\n",
       "      <th>helpful</th>\n",
       "      <th>reviewText</th>\n",
       "      <th>overall</th>\n",
       "      <th>summary</th>\n",
       "      <th>unixReviewTime</th>\n",
       "      <th>reviewTime</th>\n",
       "    </tr>\n",
       "  </thead>\n",
       "  <tbody>\n",
       "    <tr>\n",
       "      <th>0</th>\n",
       "      <td>A1N4O8VOJZTDVB</td>\n",
       "      <td>B004A9SDD8</td>\n",
       "      <td>Annette Yancey</td>\n",
       "      <td>[1, 1]</td>\n",
       "      <td>Loves the song, so he really couldn't wait to ...</td>\n",
       "      <td>3.0</td>\n",
       "      <td>Really cute</td>\n",
       "      <td>1383350400</td>\n",
       "      <td>11 2, 2013</td>\n",
       "    </tr>\n",
       "    <tr>\n",
       "      <th>1</th>\n",
       "      <td>A2HQWU6HUKIEC7</td>\n",
       "      <td>B004A9SDD8</td>\n",
       "      <td>Audiobook lover \"Kathy\"</td>\n",
       "      <td>[0, 0]</td>\n",
       "      <td>Oh, how my little grandson loves this app. He'...</td>\n",
       "      <td>5.0</td>\n",
       "      <td>2-year-old loves it</td>\n",
       "      <td>1323043200</td>\n",
       "      <td>12 5, 2011</td>\n",
       "    </tr>\n",
       "    <tr>\n",
       "      <th>2</th>\n",
       "      <td>A1SXASF6GYG96I</td>\n",
       "      <td>B004A9SDD8</td>\n",
       "      <td>Barbara Gibbs</td>\n",
       "      <td>[0, 0]</td>\n",
       "      <td>I found this at a perfect time since my daught...</td>\n",
       "      <td>5.0</td>\n",
       "      <td>Fun game</td>\n",
       "      <td>1337558400</td>\n",
       "      <td>05 21, 2012</td>\n",
       "    </tr>\n",
       "    <tr>\n",
       "      <th>3</th>\n",
       "      <td>A2B54P9ZDYH167</td>\n",
       "      <td>B004A9SDD8</td>\n",
       "      <td>Brooke Greenstreet \"Babylove\"</td>\n",
       "      <td>[3, 4]</td>\n",
       "      <td>My 1 year old goes back to this game over and ...</td>\n",
       "      <td>5.0</td>\n",
       "      <td>We love our Monkeys!</td>\n",
       "      <td>1354752000</td>\n",
       "      <td>12 6, 2012</td>\n",
       "    </tr>\n",
       "    <tr>\n",
       "      <th>4</th>\n",
       "      <td>AFOFZDTX5UC6D</td>\n",
       "      <td>B004A9SDD8</td>\n",
       "      <td>C. Galindo</td>\n",
       "      <td>[1, 1]</td>\n",
       "      <td>There are three different versions of the song...</td>\n",
       "      <td>5.0</td>\n",
       "      <td>This is my granddaughters favorite app on my K...</td>\n",
       "      <td>1391212800</td>\n",
       "      <td>02 1, 2014</td>\n",
       "    </tr>\n",
       "  </tbody>\n",
       "</table>\n",
       "</div>"
      ],
      "text/plain": [
       "       reviewerID        asin                   reviewerName helpful  \\\n",
       "0  A1N4O8VOJZTDVB  B004A9SDD8                 Annette Yancey  [1, 1]   \n",
       "1  A2HQWU6HUKIEC7  B004A9SDD8        Audiobook lover \"Kathy\"  [0, 0]   \n",
       "2  A1SXASF6GYG96I  B004A9SDD8                  Barbara Gibbs  [0, 0]   \n",
       "3  A2B54P9ZDYH167  B004A9SDD8  Brooke Greenstreet \"Babylove\"  [3, 4]   \n",
       "4   AFOFZDTX5UC6D  B004A9SDD8                     C. Galindo  [1, 1]   \n",
       "\n",
       "                                          reviewText  overall  \\\n",
       "0  Loves the song, so he really couldn't wait to ...      3.0   \n",
       "1  Oh, how my little grandson loves this app. He'...      5.0   \n",
       "2  I found this at a perfect time since my daught...      5.0   \n",
       "3  My 1 year old goes back to this game over and ...      5.0   \n",
       "4  There are three different versions of the song...      5.0   \n",
       "\n",
       "                                             summary  unixReviewTime  \\\n",
       "0                                        Really cute      1383350400   \n",
       "1                                2-year-old loves it      1323043200   \n",
       "2                                           Fun game      1337558400   \n",
       "3                               We love our Monkeys!      1354752000   \n",
       "4  This is my granddaughters favorite app on my K...      1391212800   \n",
       "\n",
       "    reviewTime  \n",
       "0   11 2, 2013  \n",
       "1   12 5, 2011  \n",
       "2  05 21, 2012  \n",
       "3   12 6, 2012  \n",
       "4   02 1, 2014  "
      ]
     },
     "execution_count": 34,
     "metadata": {},
     "output_type": "execute_result"
    }
   ],
   "source": [
    "df.head()"
   ]
  },
  {
   "cell_type": "markdown",
   "metadata": {},
   "source": [
    "<br>\n",
    "<br>\n",
    "## metadata:\n",
    "\n",
    "    reviewerID - ID of the reviewer, e.g. A2SUAM1J3GNN3B\n",
    "\n",
    "    asin - ID of the product, e.g. 0000013714\n",
    "\n",
    "    reviewerName - name of the reviewer\n",
    "\n",
    "    helpful - helpfulness rating of the review, e.g. 2/3\n",
    "\n",
    "    reviewText - text of the review\n",
    "\n",
    "    overall - rating of the product\n",
    "\n",
    "    summary - summary of the review\n",
    "\n",
    "    unixReviewTime - time of the review (unix time)\n",
    "\n",
    "    reviewTime - time of the review (raw)\n",
    "    \n",
    "<br>\n",
    "<br>"
   ]
  },
  {
   "cell_type": "code",
   "execution_count": 35,
   "metadata": {},
   "outputs": [],
   "source": [
    "#rename certain columns\n",
    "df = df.rename(columns={'asin':'itemID','overall':'rating'})"
   ]
  },
  {
   "cell_type": "code",
   "execution_count": 36,
   "metadata": {},
   "outputs": [],
   "source": [
    "from random import choice\n",
    "\n",
    "desktop_agents = ['Mozilla/5.0 (Windows NT 6.1; WOW64) AppleWebKit/537.36 (KHTML, like Gecko) Chrome/54.0.2840.99 Safari/537.36',\n",
    "                 'Mozilla/5.0 (Windows NT 10.0; WOW64) AppleWebKit/537.36 (KHTML, like Gecko) Chrome/54.0.2840.99 Safari/537.36',\n",
    "                 'Mozilla/5.0 (Windows NT 10.0; Win64; x64) AppleWebKit/537.36 (KHTML, like Gecko) Chrome/54.0.2840.99 Safari/537.36',\n",
    "                 'Mozilla/5.0 (Macintosh; Intel Mac OS X 10_12_1) AppleWebKit/602.2.14 (KHTML, like Gecko) Version/10.0.1 Safari/602.2.14',\n",
    "                 'Mozilla/5.0 (Windows NT 10.0; WOW64) AppleWebKit/537.36 (KHTML, like Gecko) Chrome/54.0.2840.71 Safari/537.36',\n",
    "                 'Mozilla/5.0 (Macintosh; Intel Mac OS X 10_12_1) AppleWebKit/537.36 (KHTML, like Gecko) Chrome/54.0.2840.98 Safari/537.36',\n",
    "                 'Mozilla/5.0 (Macintosh; Intel Mac OS X 10_11_6) AppleWebKit/537.36 (KHTML, like Gecko) Chrome/54.0.2840.98 Safari/537.36',\n",
    "                 'Mozilla/5.0 (Windows NT 6.1; WOW64) AppleWebKit/537.36 (KHTML, like Gecko) Chrome/54.0.2840.71 Safari/537.36',\n",
    "                 'Mozilla/5.0 (Windows NT 6.1; Win64; x64) AppleWebKit/537.36 (KHTML, like Gecko) Chrome/54.0.2840.99 Safari/537.36',\n",
    "                 'Mozilla/5.0 (Windows NT 10.0; WOW64; rv:50.0) Gecko/20100101 Firefox/50.0']\n",
    " \n",
    "def get_random_header():\n",
    "    return {'User-Agent': choice(desktop_agents),'Accept':'text/html,application/xhtml+xml,application/xml;q=0.9,image/webp,*/*;q=0.8'}\n",
    "\n",
    "# get name of the items\n",
    "import requests\n",
    "from bs4 import BeautifulSoup\n",
    "from functools import lru_cache\n",
    "\n",
    "#cache up to 1000 items to avoid calling the API repeatedly\n",
    "@lru_cache(maxsize=1000)\n",
    "def get_name_of_item(itemID):\n",
    "    headers = {'User-Agent': 'Mozilla/5.0 (Macintosh; Intel Mac OS X 10_10_1) AppleWebKit/537.36 (KHTML, like Gecko) Chrome/39.0.2171.95 Safari/537.36'}\n",
    "    url = \"https://www.amazon.com/dp/\"\n",
    "    item_url = url+itemID\n",
    "    html = requests.get(item_url,headers=get_random_header())\n",
    "    soup = BeautifulSoup(html.content,\"html5lib\")\n",
    "    item = soup.find(name='div',attrs={'id':'mas-title'})\n",
    "    item_name = \"\"\n",
    "    if item!=None and len(item.contents) >0:\n",
    "        item_name = item.contents[0].string\n",
    "    return item_name"
   ]
  },
  {
   "cell_type": "code",
   "execution_count": 37,
   "metadata": {},
   "outputs": [
    {
     "data": {
      "text/plain": [
       "'Candy Crush Saga'"
      ]
     },
     "execution_count": 37,
     "metadata": {},
     "output_type": "execute_result"
    }
   ],
   "source": [
    "get_name_of_item(\"B00FAPF5U0\")"
   ]
  },
  {
   "cell_type": "code",
   "execution_count": 38,
   "metadata": {},
   "outputs": [
    {
     "name": "stdout",
     "output_type": "stream",
     "text": [
      "number of reviews:  752937\n",
      "number of items:  13209\n",
      "number of users:  87271\n"
     ]
    }
   ],
   "source": [
    "print(\"number of reviews: \",df.shape[0])\n",
    "print(\"number of items: \",df.itemID.unique().shape[0])\n",
    "print(\"number of users: \",df.reviewerID.unique().shape[0])"
   ]
  },
  {
   "cell_type": "code",
   "execution_count": null,
   "metadata": {},
   "outputs": [],
   "source": []
  },
  {
   "cell_type": "markdown",
   "metadata": {},
   "source": [
    "# Data Exploration"
   ]
  },
  {
   "cell_type": "code",
   "execution_count": null,
   "metadata": {},
   "outputs": [],
   "source": []
  },
  {
   "cell_type": "code",
   "execution_count": 39,
   "metadata": {},
   "outputs": [],
   "source": [
    "# most frequent reviewers"
   ]
  },
  {
   "cell_type": "code",
   "execution_count": 40,
   "metadata": {},
   "outputs": [],
   "source": [
    "reviewer_freq = df.reviewerID.value_counts()"
   ]
  },
  {
   "cell_type": "code",
   "execution_count": 41,
   "metadata": {},
   "outputs": [
    {
     "data": {
      "text/plain": [
       "A1X1CEGHTHMBL1    565\n",
       "ACX8G3IW95BNE     513\n",
       "A2C05OHYJERICI    469\n",
       "A3F3B6HY9RJI04    467\n",
       "A1VM5Y6BL07X9X    338\n",
       "Name: reviewerID, dtype: int64"
      ]
     },
     "execution_count": 41,
     "metadata": {},
     "output_type": "execute_result"
    }
   ],
   "source": [
    "reviewer_freq.head()"
   ]
  },
  {
   "cell_type": "code",
   "execution_count": 48,
   "metadata": {},
   "outputs": [
    {
     "data": {
      "image/png": "[encoded data removed]",
      "text/plain": [
       "<Figure size 864x576 with 1 Axes>"
      ]
     },
     "metadata": {},
     "output_type": "display_data"
    }
   ],
   "source": [
    "fig,ax = plt.subplots(figsize=(12,8))\n",
    "reviewer_freq[:100].plot()\n",
    "plt.title('Frequency of reviews')\n",
    "plt.xlabel('reviewerID')\n",
    "plt.ylabel('frequency')\n",
    "plt.plot();"
   ]
  },
  {
   "cell_type": "code",
   "execution_count": null,
   "metadata": {},
   "outputs": [],
   "source": []
  },
  {
   "cell_type": "code",
   "execution_count": 49,
   "metadata": {},
   "outputs": [],
   "source": [
    "# most frequently reviewed items"
   ]
  },
  {
   "cell_type": "code",
   "execution_count": 50,
   "metadata": {},
   "outputs": [],
   "source": [
    "item_freq = df.itemID.value_counts()"
   ]
  },
  {
   "cell_type": "code",
   "execution_count": 51,
   "metadata": {},
   "outputs": [
    {
     "data": {
      "text/plain": [
       "B00FAPF5U0    6282\n",
       "B0086700CM    4637\n",
       "B00992CF6W    4018\n",
       "B009UX2YAC    3814\n",
       "B0064X7B4A    3763\n",
       "Name: itemID, dtype: int64"
      ]
     },
     "execution_count": 51,
     "metadata": {},
     "output_type": "execute_result"
    }
   ],
   "source": [
    "item_freq.head()"
   ]
  },
  {
   "cell_type": "code",
   "execution_count": 52,
   "metadata": {},
   "outputs": [
    {
     "data": {
      "image/png": "[encoded data removed]",
      "text/plain": [
       "<Figure size 864x576 with 1 Axes>"
      ]
     },
     "metadata": {},
     "output_type": "display_data"
    }
   ],
   "source": [
    "fig,ax = plt.subplots(figsize=(12,8))\n",
    "item_freq[:100].plot()\n",
    "plt.title('Frequency of reviews')\n",
    "plt.xlabel('itemID')\n",
    "plt.ylabel('frequency')\n",
    "plt.plot();"
   ]
  },
  {
   "cell_type": "code",
   "execution_count": null,
   "metadata": {},
   "outputs": [],
   "source": []
  },
  {
   "cell_type": "code",
   "execution_count": 53,
   "metadata": {},
   "outputs": [],
   "source": [
    "# rating distribution"
   ]
  },
  {
   "cell_type": "code",
   "execution_count": 54,
   "metadata": {},
   "outputs": [
    {
     "data": {
      "text/plain": [
       "5.0    386637\n",
       "4.0    158081\n",
       "3.0     85121\n",
       "1.0     78713\n",
       "2.0     44385\n",
       "Name: rating, dtype: int64"
      ]
     },
     "execution_count": 54,
     "metadata": {},
     "output_type": "execute_result"
    }
   ],
   "source": [
    "rating_df = df.rating.value_counts()\n",
    "rating_df.head()"
   ]
  },
  {
   "cell_type": "code",
   "execution_count": 55,
   "metadata": {},
   "outputs": [
    {
     "data": {
      "image/png": "[encoded data removed]",
      "text/plain": [
       "<Figure size 864x576 with 1 Axes>"
      ]
     },
     "metadata": {},
     "output_type": "display_data"
    }
   ],
   "source": [
    "fig,ax = plt.subplots(figsize=(12,8))\n",
    "rating_df.plot(kind='bar')\n",
    "plt.title('Frequency of ratings')\n",
    "plt.xlabel('rating')\n",
    "plt.ylabel('frequency')\n",
    "plt.plot();"
   ]
  },
  {
   "cell_type": "code",
   "execution_count": null,
   "metadata": {},
   "outputs": [],
   "source": []
  },
  {
   "cell_type": "code",
   "execution_count": 57,
   "metadata": {},
   "outputs": [
    {
     "data": {
      "image/png": "[encoded data removed]",
      "text/plain": [
       "<Figure size 864x576 with 1 Axes>"
      ]
     },
     "metadata": {},
     "output_type": "display_data"
    }
   ],
   "source": [
    "rating_pct_df = df.rating.value_counts()*100.0/df.rating.value_counts().sum()\n",
    "rating_pct_df.head()\n",
    "\n",
    "fig,ax = plt.subplots(figsize=(12,8))\n",
    "rating_pct_df.plot(kind='bar')\n",
    "plt.title('% ratings')\n",
    "plt.xlabel('rating')\n",
    "plt.ylabel('frequency')\n",
    "plt.plot();"
   ]
  },
  {
   "cell_type": "code",
   "execution_count": null,
   "metadata": {},
   "outputs": [],
   "source": []
  },
  {
   "cell_type": "code",
   "execution_count": null,
   "metadata": {},
   "outputs": [],
   "source": []
  },
  {
   "cell_type": "markdown",
   "metadata": {},
   "source": [
    "# Data preparation"
   ]
  },
  {
   "cell_type": "code",
   "execution_count": null,
   "metadata": {},
   "outputs": [],
   "source": []
  },
  {
   "cell_type": "code",
   "execution_count": 58,
   "metadata": {},
   "outputs": [
    {
     "data": {
      "text/html": [
       "<div>\n",
       "<style scoped>\n",
       "    .dataframe tbody tr th:only-of-type {\n",
       "        vertical-align: middle;\n",
       "    }\n",
       "\n",
       "    .dataframe tbody tr th {\n",
       "        vertical-align: top;\n",
       "    }\n",
       "\n",
       "    .dataframe thead th {\n",
       "        text-align: right;\n",
       "    }\n",
       "</style>\n",
       "<table border=\"1\" class=\"dataframe\">\n",
       "  <thead>\n",
       "    <tr style=\"text-align: right;\">\n",
       "      <th></th>\n",
       "      <th>reviewerID</th>\n",
       "      <th>itemID</th>\n",
       "      <th>reviewerName</th>\n",
       "      <th>helpful</th>\n",
       "      <th>reviewText</th>\n",
       "      <th>rating</th>\n",
       "      <th>summary</th>\n",
       "      <th>unixReviewTime</th>\n",
       "      <th>reviewTime</th>\n",
       "    </tr>\n",
       "  </thead>\n",
       "  <tbody>\n",
       "    <tr>\n",
       "      <th>0</th>\n",
       "      <td>A1N4O8VOJZTDVB</td>\n",
       "      <td>B004A9SDD8</td>\n",
       "      <td>Annette Yancey</td>\n",
       "      <td>[1, 1]</td>\n",
       "      <td>Loves the song, so he really couldn't wait to ...</td>\n",
       "      <td>3.0</td>\n",
       "      <td>Really cute</td>\n",
       "      <td>1383350400</td>\n",
       "      <td>11 2, 2013</td>\n",
       "    </tr>\n",
       "    <tr>\n",
       "      <th>1</th>\n",
       "      <td>A2HQWU6HUKIEC7</td>\n",
       "      <td>B004A9SDD8</td>\n",
       "      <td>Audiobook lover \"Kathy\"</td>\n",
       "      <td>[0, 0]</td>\n",
       "      <td>Oh, how my little grandson loves this app. He'...</td>\n",
       "      <td>5.0</td>\n",
       "      <td>2-year-old loves it</td>\n",
       "      <td>1323043200</td>\n",
       "      <td>12 5, 2011</td>\n",
       "    </tr>\n",
       "    <tr>\n",
       "      <th>2</th>\n",
       "      <td>A1SXASF6GYG96I</td>\n",
       "      <td>B004A9SDD8</td>\n",
       "      <td>Barbara Gibbs</td>\n",
       "      <td>[0, 0]</td>\n",
       "      <td>I found this at a perfect time since my daught...</td>\n",
       "      <td>5.0</td>\n",
       "      <td>Fun game</td>\n",
       "      <td>1337558400</td>\n",
       "      <td>05 21, 2012</td>\n",
       "    </tr>\n",
       "    <tr>\n",
       "      <th>3</th>\n",
       "      <td>A2B54P9ZDYH167</td>\n",
       "      <td>B004A9SDD8</td>\n",
       "      <td>Brooke Greenstreet \"Babylove\"</td>\n",
       "      <td>[3, 4]</td>\n",
       "      <td>My 1 year old goes back to this game over and ...</td>\n",
       "      <td>5.0</td>\n",
       "      <td>We love our Monkeys!</td>\n",
       "      <td>1354752000</td>\n",
       "      <td>12 6, 2012</td>\n",
       "    </tr>\n",
       "    <tr>\n",
       "      <th>4</th>\n",
       "      <td>AFOFZDTX5UC6D</td>\n",
       "      <td>B004A9SDD8</td>\n",
       "      <td>C. Galindo</td>\n",
       "      <td>[1, 1]</td>\n",
       "      <td>There are three different versions of the song...</td>\n",
       "      <td>5.0</td>\n",
       "      <td>This is my granddaughters favorite app on my K...</td>\n",
       "      <td>1391212800</td>\n",
       "      <td>02 1, 2014</td>\n",
       "    </tr>\n",
       "  </tbody>\n",
       "</table>\n",
       "</div>"
      ],
      "text/plain": [
       "       reviewerID      itemID                   reviewerName helpful  \\\n",
       "0  A1N4O8VOJZTDVB  B004A9SDD8                 Annette Yancey  [1, 1]   \n",
       "1  A2HQWU6HUKIEC7  B004A9SDD8        Audiobook lover \"Kathy\"  [0, 0]   \n",
       "2  A1SXASF6GYG96I  B004A9SDD8                  Barbara Gibbs  [0, 0]   \n",
       "3  A2B54P9ZDYH167  B004A9SDD8  Brooke Greenstreet \"Babylove\"  [3, 4]   \n",
       "4   AFOFZDTX5UC6D  B004A9SDD8                     C. Galindo  [1, 1]   \n",
       "\n",
       "                                          reviewText  rating  \\\n",
       "0  Loves the song, so he really couldn't wait to ...     3.0   \n",
       "1  Oh, how my little grandson loves this app. He'...     5.0   \n",
       "2  I found this at a perfect time since my daught...     5.0   \n",
       "3  My 1 year old goes back to this game over and ...     5.0   \n",
       "4  There are three different versions of the song...     5.0   \n",
       "\n",
       "                                             summary  unixReviewTime  \\\n",
       "0                                        Really cute      1383350400   \n",
       "1                                2-year-old loves it      1323043200   \n",
       "2                                           Fun game      1337558400   \n",
       "3                               We love our Monkeys!      1354752000   \n",
       "4  This is my granddaughters favorite app on my K...      1391212800   \n",
       "\n",
       "    reviewTime  \n",
       "0   11 2, 2013  \n",
       "1   12 5, 2011  \n",
       "2  05 21, 2012  \n",
       "3   12 6, 2012  \n",
       "4   02 1, 2014  "
      ]
     },
     "execution_count": 58,
     "metadata": {},
     "output_type": "execute_result"
    }
   ],
   "source": [
    "df.head()"
   ]
  },
  {
   "cell_type": "code",
   "execution_count": 60,
   "metadata": {},
   "outputs": [],
   "source": [
    "columns = ['reviewerID', 'itemID', 'rating']"
   ]
  },
  {
   "cell_type": "code",
   "execution_count": 61,
   "metadata": {},
   "outputs": [
    {
     "data": {
      "text/html": [
       "<div>\n",
       "<style scoped>\n",
       "    .dataframe tbody tr th:only-of-type {\n",
       "        vertical-align: middle;\n",
       "    }\n",
       "\n",
       "    .dataframe tbody tr th {\n",
       "        vertical-align: top;\n",
       "    }\n",
       "\n",
       "    .dataframe thead th {\n",
       "        text-align: right;\n",
       "    }\n",
       "</style>\n",
       "<table border=\"1\" class=\"dataframe\">\n",
       "  <thead>\n",
       "    <tr style=\"text-align: right;\">\n",
       "      <th></th>\n",
       "      <th>reviewerID</th>\n",
       "      <th>itemID</th>\n",
       "      <th>rating</th>\n",
       "    </tr>\n",
       "  </thead>\n",
       "  <tbody>\n",
       "    <tr>\n",
       "      <th>0</th>\n",
       "      <td>A1N4O8VOJZTDVB</td>\n",
       "      <td>B004A9SDD8</td>\n",
       "      <td>3.0</td>\n",
       "    </tr>\n",
       "    <tr>\n",
       "      <th>1</th>\n",
       "      <td>A2HQWU6HUKIEC7</td>\n",
       "      <td>B004A9SDD8</td>\n",
       "      <td>5.0</td>\n",
       "    </tr>\n",
       "    <tr>\n",
       "      <th>2</th>\n",
       "      <td>A1SXASF6GYG96I</td>\n",
       "      <td>B004A9SDD8</td>\n",
       "      <td>5.0</td>\n",
       "    </tr>\n",
       "    <tr>\n",
       "      <th>3</th>\n",
       "      <td>A2B54P9ZDYH167</td>\n",
       "      <td>B004A9SDD8</td>\n",
       "      <td>5.0</td>\n",
       "    </tr>\n",
       "    <tr>\n",
       "      <th>4</th>\n",
       "      <td>AFOFZDTX5UC6D</td>\n",
       "      <td>B004A9SDD8</td>\n",
       "      <td>5.0</td>\n",
       "    </tr>\n",
       "  </tbody>\n",
       "</table>\n",
       "</div>"
      ],
      "text/plain": [
       "       reviewerID      itemID  rating\n",
       "0  A1N4O8VOJZTDVB  B004A9SDD8     3.0\n",
       "1  A2HQWU6HUKIEC7  B004A9SDD8     5.0\n",
       "2  A1SXASF6GYG96I  B004A9SDD8     5.0\n",
       "3  A2B54P9ZDYH167  B004A9SDD8     5.0\n",
       "4   AFOFZDTX5UC6D  B004A9SDD8     5.0"
      ]
     },
     "execution_count": 61,
     "metadata": {},
     "output_type": "execute_result"
    }
   ],
   "source": [
    "data = df[columns]\n",
    "data.head()"
   ]
  },
  {
   "cell_type": "code",
   "execution_count": null,
   "metadata": {},
   "outputs": [],
   "source": []
  },
  {
   "cell_type": "code",
   "execution_count": 63,
   "metadata": {},
   "outputs": [],
   "source": [
    "k=1000\n",
    "top_k_users = reviewer_freq.index[:k]\n",
    "top_k_items  = item_freq.index[:k]"
   ]
  },
  {
   "cell_type": "code",
   "execution_count": 67,
   "metadata": {},
   "outputs": [
    {
     "name": "stdout",
     "output_type": "stream",
     "text": [
      "top 10 users:  Index(['A1X1CEGHTHMBL1', 'ACX8G3IW95BNE', 'A2C05OHYJERICI', 'A3F3B6HY9RJI04',\n",
      "       'A1VM5Y6BL07X9X', 'A1E1LEVQ9VQNK', 'ASXYFYCPIP232', 'A2YAUX8C73PN43',\n",
      "       'AVVK3WYO1TRZO', 'A17KRI7HC6NF69'],\n",
      "      dtype='object')\n"
     ]
    }
   ],
   "source": [
    "print(\"top 10 users: \",top_k_users[:10])"
   ]
  },
  {
   "cell_type": "code",
   "execution_count": 68,
   "metadata": {},
   "outputs": [
    {
     "name": "stdout",
     "output_type": "stream",
     "text": [
      "top 10 items:  Index(['B00FAPF5U0', 'B0086700CM', 'B00992CF6W', 'B009UX2YAC', 'B0064X7B4A',\n",
      "       'B00DJFIMW6', 'B0054JZC6E', 'B0063IH60K', 'B005ZXWMUS', 'B009HKL4B8'],\n",
      "      dtype='object')\n"
     ]
    }
   ],
   "source": [
    "print(\"top 10 items: \",top_k_items[:10])"
   ]
  },
  {
   "cell_type": "code",
   "execution_count": null,
   "metadata": {},
   "outputs": [],
   "source": []
  },
  {
   "cell_type": "code",
   "execution_count": 70,
   "metadata": {},
   "outputs": [
    {
     "data": {
      "text/html": [
       "<div>\n",
       "<style scoped>\n",
       "    .dataframe tbody tr th:only-of-type {\n",
       "        vertical-align: middle;\n",
       "    }\n",
       "\n",
       "    .dataframe tbody tr th {\n",
       "        vertical-align: top;\n",
       "    }\n",
       "\n",
       "    .dataframe thead th {\n",
       "        text-align: right;\n",
       "    }\n",
       "</style>\n",
       "<table border=\"1\" class=\"dataframe\">\n",
       "  <thead>\n",
       "    <tr style=\"text-align: right;\">\n",
       "      <th></th>\n",
       "      <th>reviewerID</th>\n",
       "      <th>itemID</th>\n",
       "      <th>rating</th>\n",
       "    </tr>\n",
       "  </thead>\n",
       "  <tbody>\n",
       "    <tr>\n",
       "      <th>31</th>\n",
       "      <td>AK3IFCDU88TI9</td>\n",
       "      <td>B004AFQAUA</td>\n",
       "      <td>4.0</td>\n",
       "    </tr>\n",
       "    <tr>\n",
       "      <th>81</th>\n",
       "      <td>A2R2MAYHN4F7GU</td>\n",
       "      <td>B004AHBBPW</td>\n",
       "      <td>5.0</td>\n",
       "    </tr>\n",
       "    <tr>\n",
       "      <th>137</th>\n",
       "      <td>ACOM2CL2297RS</td>\n",
       "      <td>B004AHBBPW</td>\n",
       "      <td>5.0</td>\n",
       "    </tr>\n",
       "    <tr>\n",
       "      <th>144</th>\n",
       "      <td>A2DWN2MQYWKGNX</td>\n",
       "      <td>B004AHBBPW</td>\n",
       "      <td>3.0</td>\n",
       "    </tr>\n",
       "    <tr>\n",
       "      <th>163</th>\n",
       "      <td>A2WT86IPK92CM0</td>\n",
       "      <td>B004AHBBPW</td>\n",
       "      <td>5.0</td>\n",
       "    </tr>\n",
       "  </tbody>\n",
       "</table>\n",
       "</div>"
      ],
      "text/plain": [
       "         reviewerID      itemID  rating\n",
       "31    AK3IFCDU88TI9  B004AFQAUA     4.0\n",
       "81   A2R2MAYHN4F7GU  B004AHBBPW     5.0\n",
       "137   ACOM2CL2297RS  B004AHBBPW     5.0\n",
       "144  A2DWN2MQYWKGNX  B004AHBBPW     3.0\n",
       "163  A2WT86IPK92CM0  B004AHBBPW     5.0"
      ]
     },
     "execution_count": 70,
     "metadata": {},
     "output_type": "execute_result"
    }
   ],
   "source": [
    "data_with_top_k_users = data[data.reviewerID.isin(top_k_users)]\n",
    "data_with_top_k_users.head()"
   ]
  },
  {
   "cell_type": "code",
   "execution_count": 71,
   "metadata": {},
   "outputs": [
    {
     "data": {
      "text/html": [
       "<div>\n",
       "<style scoped>\n",
       "    .dataframe tbody tr th:only-of-type {\n",
       "        vertical-align: middle;\n",
       "    }\n",
       "\n",
       "    .dataframe tbody tr th {\n",
       "        vertical-align: top;\n",
       "    }\n",
       "\n",
       "    .dataframe thead th {\n",
       "        text-align: right;\n",
       "    }\n",
       "</style>\n",
       "<table border=\"1\" class=\"dataframe\">\n",
       "  <thead>\n",
       "    <tr style=\"text-align: right;\">\n",
       "      <th></th>\n",
       "      <th>reviewerID</th>\n",
       "      <th>itemID</th>\n",
       "      <th>rating</th>\n",
       "    </tr>\n",
       "  </thead>\n",
       "  <tbody>\n",
       "    <tr>\n",
       "      <th>356</th>\n",
       "      <td>A315MDHWT29JK9</td>\n",
       "      <td>B004ANMWPY</td>\n",
       "      <td>5.0</td>\n",
       "    </tr>\n",
       "    <tr>\n",
       "      <th>374</th>\n",
       "      <td>AQRW3O94JUV8F</td>\n",
       "      <td>B004ANMWPY</td>\n",
       "      <td>5.0</td>\n",
       "    </tr>\n",
       "    <tr>\n",
       "      <th>402</th>\n",
       "      <td>ACSB6YEM3Q6Q1</td>\n",
       "      <td>B004ANMWPY</td>\n",
       "      <td>5.0</td>\n",
       "    </tr>\n",
       "    <tr>\n",
       "      <th>429</th>\n",
       "      <td>A36A1ZYZH8568P</td>\n",
       "      <td>B004ANMWPY</td>\n",
       "      <td>4.0</td>\n",
       "    </tr>\n",
       "    <tr>\n",
       "      <th>431</th>\n",
       "      <td>ACX8G3IW95BNE</td>\n",
       "      <td>B004ANMWPY</td>\n",
       "      <td>5.0</td>\n",
       "    </tr>\n",
       "  </tbody>\n",
       "</table>\n",
       "</div>"
      ],
      "text/plain": [
       "         reviewerID      itemID  rating\n",
       "356  A315MDHWT29JK9  B004ANMWPY     5.0\n",
       "374   AQRW3O94JUV8F  B004ANMWPY     5.0\n",
       "402   ACSB6YEM3Q6Q1  B004ANMWPY     5.0\n",
       "429  A36A1ZYZH8568P  B004ANMWPY     4.0\n",
       "431   ACX8G3IW95BNE  B004ANMWPY     5.0"
      ]
     },
     "execution_count": 71,
     "metadata": {},
     "output_type": "execute_result"
    }
   ],
   "source": [
    "data_with_top_k_items = data_with_top_k_users[data_with_top_k_users.itemID.isin(top_k_items)]\n",
    "data_with_top_k_items.head()"
   ]
  },
  {
   "cell_type": "code",
   "execution_count": 72,
   "metadata": {},
   "outputs": [
    {
     "data": {
      "text/plain": [
       "(56865, 3)"
      ]
     },
     "execution_count": 72,
     "metadata": {},
     "output_type": "execute_result"
    }
   ],
   "source": [
    "data_with_top_k_users.shape"
   ]
  },
  {
   "cell_type": "code",
   "execution_count": 73,
   "metadata": {},
   "outputs": [
    {
     "data": {
      "text/plain": [
       "(23948, 3)"
      ]
     },
     "execution_count": 73,
     "metadata": {},
     "output_type": "execute_result"
    }
   ],
   "source": [
    "data_with_top_k_items.shape"
   ]
  },
  {
   "cell_type": "code",
   "execution_count": null,
   "metadata": {},
   "outputs": [],
   "source": []
  },
  {
   "cell_type": "code",
   "execution_count": 77,
   "metadata": {},
   "outputs": [
    {
     "name": "stdout",
     "output_type": "stream",
     "text": [
      "number of reviewers:  997\n",
      "number of items:  1000\n"
     ]
    }
   ],
   "source": [
    "# data summary after sampling\n",
    "print(\"number of reviewers: \",data_with_top_k_items.reviewerID.unique().shape[0])\n",
    "print(\"number of items: \",data_with_top_k_items.itemID.unique().shape[0])"
   ]
  },
  {
   "cell_type": "code",
   "execution_count": null,
   "metadata": {},
   "outputs": [],
   "source": []
  },
  {
   "cell_type": "code",
   "execution_count": null,
   "metadata": {},
   "outputs": [],
   "source": []
  },
  {
   "cell_type": "code",
   "execution_count": 78,
   "metadata": {},
   "outputs": [],
   "source": [
    "data_long_format = data_with_top_k_items.copy()"
   ]
  },
  {
   "cell_type": "code",
   "execution_count": 79,
   "metadata": {},
   "outputs": [
    {
     "data": {
      "text/html": [
       "<div>\n",
       "<style scoped>\n",
       "    .dataframe tbody tr th:only-of-type {\n",
       "        vertical-align: middle;\n",
       "    }\n",
       "\n",
       "    .dataframe tbody tr th {\n",
       "        vertical-align: top;\n",
       "    }\n",
       "\n",
       "    .dataframe thead th {\n",
       "        text-align: right;\n",
       "    }\n",
       "</style>\n",
       "<table border=\"1\" class=\"dataframe\">\n",
       "  <thead>\n",
       "    <tr style=\"text-align: right;\">\n",
       "      <th></th>\n",
       "      <th>reviewerID</th>\n",
       "      <th>itemID</th>\n",
       "      <th>rating</th>\n",
       "    </tr>\n",
       "  </thead>\n",
       "  <tbody>\n",
       "    <tr>\n",
       "      <th>356</th>\n",
       "      <td>A315MDHWT29JK9</td>\n",
       "      <td>B004ANMWPY</td>\n",
       "      <td>5.0</td>\n",
       "    </tr>\n",
       "    <tr>\n",
       "      <th>374</th>\n",
       "      <td>AQRW3O94JUV8F</td>\n",
       "      <td>B004ANMWPY</td>\n",
       "      <td>5.0</td>\n",
       "    </tr>\n",
       "    <tr>\n",
       "      <th>402</th>\n",
       "      <td>ACSB6YEM3Q6Q1</td>\n",
       "      <td>B004ANMWPY</td>\n",
       "      <td>5.0</td>\n",
       "    </tr>\n",
       "    <tr>\n",
       "      <th>429</th>\n",
       "      <td>A36A1ZYZH8568P</td>\n",
       "      <td>B004ANMWPY</td>\n",
       "      <td>4.0</td>\n",
       "    </tr>\n",
       "    <tr>\n",
       "      <th>431</th>\n",
       "      <td>ACX8G3IW95BNE</td>\n",
       "      <td>B004ANMWPY</td>\n",
       "      <td>5.0</td>\n",
       "    </tr>\n",
       "  </tbody>\n",
       "</table>\n",
       "</div>"
      ],
      "text/plain": [
       "         reviewerID      itemID  rating\n",
       "356  A315MDHWT29JK9  B004ANMWPY     5.0\n",
       "374   AQRW3O94JUV8F  B004ANMWPY     5.0\n",
       "402   ACSB6YEM3Q6Q1  B004ANMWPY     5.0\n",
       "429  A36A1ZYZH8568P  B004ANMWPY     4.0\n",
       "431   ACX8G3IW95BNE  B004ANMWPY     5.0"
      ]
     },
     "execution_count": 79,
     "metadata": {},
     "output_type": "execute_result"
    }
   ],
   "source": [
    "data_long_format.head()"
   ]
  },
  {
   "cell_type": "code",
   "execution_count": null,
   "metadata": {},
   "outputs": [],
   "source": []
  },
  {
   "cell_type": "code",
   "execution_count": null,
   "metadata": {},
   "outputs": [],
   "source": []
  },
  {
   "cell_type": "markdown",
   "metadata": {},
   "source": [
    "# Implementation\n",
    "\n"
   ]
  },
  {
   "cell_type": "code",
   "execution_count": null,
   "metadata": {},
   "outputs": [],
   "source": []
  },
  {
   "cell_type": "code",
   "execution_count": null,
   "metadata": {},
   "outputs": [],
   "source": []
  },
  {
   "cell_type": "markdown",
   "metadata": {},
   "source": [
    "## Popularity Based Model"
   ]
  },
  {
   "cell_type": "code",
   "execution_count": null,
   "metadata": {},
   "outputs": [],
   "source": []
  },
  {
   "cell_type": "code",
   "execution_count": 80,
   "metadata": {},
   "outputs": [],
   "source": [
    "def recommend_most_popular_items(k=10):\n",
    "    \n",
    "    most_popular_items = data_long_format.itemID.value_counts()\n",
    "    most_popular_items_ids = most_popular_items.index\n",
    "    return most_popular_items_ids[:k]\n",
    "    "
   ]
  },
  {
   "cell_type": "code",
   "execution_count": 81,
   "metadata": {},
   "outputs": [],
   "source": [
    "most_popular_items = recommend_most_popular_items()"
   ]
  },
  {
   "cell_type": "code",
   "execution_count": 82,
   "metadata": {},
   "outputs": [
    {
     "data": {
      "text/plain": [
       "Index(['B00FAPF5U0', 'B005ZXWMUS', 'B0063IH60K', 'B004SJ3BCI', 'B0086700CM',\n",
       "       'B008JGSM6G', 'B0094BB4TW', 'B005HSL626', 'B0064X7FVE', 'B0064X7B4A'],\n",
       "      dtype='object')"
      ]
     },
     "execution_count": 82,
     "metadata": {},
     "output_type": "execute_result"
    }
   ],
   "source": [
    "most_popular_items"
   ]
  },
  {
   "cell_type": "code",
   "execution_count": 83,
   "metadata": {},
   "outputs": [],
   "source": [
    "names_of_items = [get_name_of_item(item) for item in most_popular_items]"
   ]
  },
  {
   "cell_type": "code",
   "execution_count": 85,
   "metadata": {},
   "outputs": [
    {
     "name": "stdout",
     "output_type": "stream",
     "text": [
      "['Candy Crush Saga',\n",
      " 'Netflix',\n",
      " 'Solitaire',\n",
      " 'Angry Birds Free',\n",
      " 'Temple Run',\n",
      " 'Flow Free',\n",
      " 'Facebook',\n",
      " 'Fruit Ninja Free',\n",
      " '',\n",
      " '']\n"
     ]
    }
   ],
   "source": [
    "pprint(names_of_items)"
   ]
  },
  {
   "cell_type": "code",
   "execution_count": null,
   "metadata": {},
   "outputs": [],
   "source": []
  },
  {
   "cell_type": "code",
   "execution_count": null,
   "metadata": {},
   "outputs": [],
   "source": []
  },
  {
   "cell_type": "markdown",
   "metadata": {},
   "source": [
    "## Similarity Based Models"
   ]
  },
  {
   "cell_type": "markdown",
   "metadata": {},
   "source": [
    "### item-item Similarity"
   ]
  },
  {
   "cell_type": "code",
   "execution_count": null,
   "metadata": {},
   "outputs": [],
   "source": []
  },
  {
   "cell_type": "code",
   "execution_count": 86,
   "metadata": {},
   "outputs": [
    {
     "data": {
      "text/html": [
       "<div>\n",
       "<style scoped>\n",
       "    .dataframe tbody tr th:only-of-type {\n",
       "        vertical-align: middle;\n",
       "    }\n",
       "\n",
       "    .dataframe tbody tr th {\n",
       "        vertical-align: top;\n",
       "    }\n",
       "\n",
       "    .dataframe thead th {\n",
       "        text-align: right;\n",
       "    }\n",
       "</style>\n",
       "<table border=\"1\" class=\"dataframe\">\n",
       "  <thead>\n",
       "    <tr style=\"text-align: right;\">\n",
       "      <th></th>\n",
       "      <th>reviewerID</th>\n",
       "      <th>itemID</th>\n",
       "      <th>rating</th>\n",
       "    </tr>\n",
       "  </thead>\n",
       "  <tbody>\n",
       "    <tr>\n",
       "      <th>356</th>\n",
       "      <td>A315MDHWT29JK9</td>\n",
       "      <td>B004ANMWPY</td>\n",
       "      <td>5.0</td>\n",
       "    </tr>\n",
       "    <tr>\n",
       "      <th>374</th>\n",
       "      <td>AQRW3O94JUV8F</td>\n",
       "      <td>B004ANMWPY</td>\n",
       "      <td>5.0</td>\n",
       "    </tr>\n",
       "    <tr>\n",
       "      <th>402</th>\n",
       "      <td>ACSB6YEM3Q6Q1</td>\n",
       "      <td>B004ANMWPY</td>\n",
       "      <td>5.0</td>\n",
       "    </tr>\n",
       "    <tr>\n",
       "      <th>429</th>\n",
       "      <td>A36A1ZYZH8568P</td>\n",
       "      <td>B004ANMWPY</td>\n",
       "      <td>4.0</td>\n",
       "    </tr>\n",
       "    <tr>\n",
       "      <th>431</th>\n",
       "      <td>ACX8G3IW95BNE</td>\n",
       "      <td>B004ANMWPY</td>\n",
       "      <td>5.0</td>\n",
       "    </tr>\n",
       "  </tbody>\n",
       "</table>\n",
       "</div>"
      ],
      "text/plain": [
       "         reviewerID      itemID  rating\n",
       "356  A315MDHWT29JK9  B004ANMWPY     5.0\n",
       "374   AQRW3O94JUV8F  B004ANMWPY     5.0\n",
       "402   ACSB6YEM3Q6Q1  B004ANMWPY     5.0\n",
       "429  A36A1ZYZH8568P  B004ANMWPY     4.0\n",
       "431   ACX8G3IW95BNE  B004ANMWPY     5.0"
      ]
     },
     "execution_count": 86,
     "metadata": {},
     "output_type": "execute_result"
    }
   ],
   "source": [
    "data_long_format.head()"
   ]
  },
  {
   "cell_type": "code",
   "execution_count": 87,
   "metadata": {},
   "outputs": [],
   "source": [
    "data_long_format['like'] = data_long_format['rating'] >=3"
   ]
  },
  {
   "cell_type": "code",
   "execution_count": 88,
   "metadata": {},
   "outputs": [
    {
     "data": {
      "text/html": [
       "<div>\n",
       "<style scoped>\n",
       "    .dataframe tbody tr th:only-of-type {\n",
       "        vertical-align: middle;\n",
       "    }\n",
       "\n",
       "    .dataframe tbody tr th {\n",
       "        vertical-align: top;\n",
       "    }\n",
       "\n",
       "    .dataframe thead th {\n",
       "        text-align: right;\n",
       "    }\n",
       "</style>\n",
       "<table border=\"1\" class=\"dataframe\">\n",
       "  <thead>\n",
       "    <tr style=\"text-align: right;\">\n",
       "      <th></th>\n",
       "      <th>reviewerID</th>\n",
       "      <th>itemID</th>\n",
       "      <th>rating</th>\n",
       "      <th>like</th>\n",
       "    </tr>\n",
       "  </thead>\n",
       "  <tbody>\n",
       "    <tr>\n",
       "      <th>356</th>\n",
       "      <td>A315MDHWT29JK9</td>\n",
       "      <td>B004ANMWPY</td>\n",
       "      <td>5.0</td>\n",
       "      <td>True</td>\n",
       "    </tr>\n",
       "    <tr>\n",
       "      <th>374</th>\n",
       "      <td>AQRW3O94JUV8F</td>\n",
       "      <td>B004ANMWPY</td>\n",
       "      <td>5.0</td>\n",
       "      <td>True</td>\n",
       "    </tr>\n",
       "    <tr>\n",
       "      <th>402</th>\n",
       "      <td>ACSB6YEM3Q6Q1</td>\n",
       "      <td>B004ANMWPY</td>\n",
       "      <td>5.0</td>\n",
       "      <td>True</td>\n",
       "    </tr>\n",
       "    <tr>\n",
       "      <th>429</th>\n",
       "      <td>A36A1ZYZH8568P</td>\n",
       "      <td>B004ANMWPY</td>\n",
       "      <td>4.0</td>\n",
       "      <td>True</td>\n",
       "    </tr>\n",
       "    <tr>\n",
       "      <th>431</th>\n",
       "      <td>ACX8G3IW95BNE</td>\n",
       "      <td>B004ANMWPY</td>\n",
       "      <td>5.0</td>\n",
       "      <td>True</td>\n",
       "    </tr>\n",
       "  </tbody>\n",
       "</table>\n",
       "</div>"
      ],
      "text/plain": [
       "         reviewerID      itemID  rating  like\n",
       "356  A315MDHWT29JK9  B004ANMWPY     5.0  True\n",
       "374   AQRW3O94JUV8F  B004ANMWPY     5.0  True\n",
       "402   ACSB6YEM3Q6Q1  B004ANMWPY     5.0  True\n",
       "429  A36A1ZYZH8568P  B004ANMWPY     4.0  True\n",
       "431   ACX8G3IW95BNE  B004ANMWPY     5.0  True"
      ]
     },
     "execution_count": 88,
     "metadata": {},
     "output_type": "execute_result"
    }
   ],
   "source": [
    "data_long_format.head()"
   ]
  },
  {
   "cell_type": "code",
   "execution_count": 89,
   "metadata": {},
   "outputs": [
    {
     "data": {
      "text/plain": [
       "True     19975\n",
       "False     3973\n",
       "Name: like, dtype: int64"
      ]
     },
     "execution_count": 89,
     "metadata": {},
     "output_type": "execute_result"
    }
   ],
   "source": [
    "data_long_format.like.value_counts()"
   ]
  },
  {
   "cell_type": "code",
   "execution_count": null,
   "metadata": {},
   "outputs": [],
   "source": []
  },
  {
   "cell_type": "code",
   "execution_count": 94,
   "metadata": {},
   "outputs": [],
   "source": [
    "def jaccard_similarity(group_1, group_2):\n",
    "    \"\"\"\n",
    "    group_1, group_2 : list of items\n",
    "    \"\"\"\n",
    "    \n",
    "    group_1_set = set(group_1)\n",
    "    group_2_set = set(group_2)\n",
    "    \n",
    "    intersection = group_1_set.intersection(group_2_set)\n",
    "    union = group_1_set.union(group_2_set)\n",
    "    \n",
    "    return len(intersection)/len(union)\n",
    "    "
   ]
  },
  {
   "cell_type": "code",
   "execution_count": null,
   "metadata": {},
   "outputs": [],
   "source": []
  },
  {
   "cell_type": "code",
   "execution_count": 95,
   "metadata": {},
   "outputs": [
    {
     "data": {
      "text/plain": [
       "1.0"
      ]
     },
     "execution_count": 95,
     "metadata": {},
     "output_type": "execute_result"
    }
   ],
   "source": [
    "jaccard_similarity([1,2,3],[1,2,3])"
   ]
  },
  {
   "cell_type": "code",
   "execution_count": 96,
   "metadata": {},
   "outputs": [
    {
     "data": {
      "text/plain": [
       "0.0"
      ]
     },
     "execution_count": 96,
     "metadata": {},
     "output_type": "execute_result"
    }
   ],
   "source": [
    "jaccard_similarity([1,2,3],[4,5,6])"
   ]
  },
  {
   "cell_type": "code",
   "execution_count": 97,
   "metadata": {},
   "outputs": [
    {
     "data": {
      "text/plain": [
       "0.5"
      ]
     },
     "execution_count": 97,
     "metadata": {},
     "output_type": "execute_result"
    }
   ],
   "source": [
    "jaccard_similarity([1,2,3],[1,3,4])"
   ]
  },
  {
   "cell_type": "code",
   "execution_count": null,
   "metadata": {},
   "outputs": [],
   "source": []
  },
  {
   "cell_type": "code",
   "execution_count": null,
   "metadata": {},
   "outputs": [],
   "source": []
  },
  {
   "cell_type": "code",
   "execution_count": 93,
   "metadata": {},
   "outputs": [
    {
     "data": {
      "text/plain": [
       "itemID\n",
       "B004ANMWPY    [A315MDHWT29JK9, AQRW3O94JUV8F, ACSB6YEM3Q6Q1,...\n",
       "B004DLNC4I    [AK60UXMNOQNFJ, A315MDHWT29JK9, ADLVFFE4VBT8, ...\n",
       "B004DLPXAO    [A8MTDB180W1XE, A2DGSDMNV02KBP, A2F9G63C1PJZOM...\n",
       "B004DM1OAQ    [A196EE7NHEO4HM, AX3GWKHTWUZI6, A20PAJNZK0J2UA...\n",
       "B004DPC5Y2    [A1K1Z8XHZLATOJ, A1Q19JB1PE2V5V, A1DG75OT3Y49E...\n",
       "Name: reviewerID, dtype: object"
      ]
     },
     "execution_count": 93,
     "metadata": {},
     "output_type": "execute_result"
    }
   ],
   "source": [
    "item_user_mapping = data_long_format.groupby('itemID')['reviewerID'].unique()\n",
    "item_user_mapping.head()"
   ]
  },
  {
   "cell_type": "code",
   "execution_count": 101,
   "metadata": {},
   "outputs": [
    {
     "data": {
      "text/plain": [
       "array(['A315MDHWT29JK9', 'AQRW3O94JUV8F', 'ACSB6YEM3Q6Q1',\n",
       "       'A36A1ZYZH8568P', 'ACX8G3IW95BNE', 'AQ5A10N61H758',\n",
       "       'A2GAUG7MPGJQ1B', 'A58437AUQICZF', 'A10ANCEOWK5GBN',\n",
       "       'A1P8OFY33JAV6I', 'A1NH2CPKTA3P5J'], dtype=object)"
      ]
     },
     "execution_count": 101,
     "metadata": {},
     "output_type": "execute_result"
    }
   ],
   "source": [
    "item_user_mapping['B004ANMWPY']"
   ]
  },
  {
   "cell_type": "code",
   "execution_count": null,
   "metadata": {},
   "outputs": [],
   "source": []
  },
  {
   "cell_type": "code",
   "execution_count": 99,
   "metadata": {},
   "outputs": [],
   "source": [
    "item_item_similarity = {}"
   ]
  },
  {
   "cell_type": "code",
   "execution_count": 107,
   "metadata": {},
   "outputs": [],
   "source": [
    "num_items = item_user_mapping.shape[0]\n",
    "# num_items = 5\n",
    "all_items = item_user_mapping.index\n",
    "\n",
    "for first_item_index in range(num_items):\n",
    "\n",
    "    #get all similar item mapping with the first item\n",
    "    first_item_id = all_items[first_item_index]\n",
    "    first_item_group = item_user_mapping[first_item_id]\n",
    "    first_item_sim_group = item_item_similarity.get(first_item_id,{})\n",
    "    \n",
    "    for second_item_index in range(num_items):\n",
    "             \n",
    "        second_item_id = all_items[second_item_index]\n",
    "        second_item_group = item_user_mapping[second_item_id]\n",
    "    \n",
    "        sim_score = jaccard_similarity(first_item_group, second_item_group)\n",
    "        \n",
    "        #store the first-item & second item sim score in the dict\n",
    "        first_item_sim_group[second_item_id] = sim_score\n",
    "        \n",
    "        #update the dict\n",
    "        item_item_similarity[first_item_id] = first_item_sim_group\n",
    "    \n",
    "                "
   ]
  },
  {
   "cell_type": "code",
   "execution_count": 108,
   "metadata": {},
   "outputs": [
    {
     "data": {
      "text/html": [
       "<div>\n",
       "<style scoped>\n",
       "    .dataframe tbody tr th:only-of-type {\n",
       "        vertical-align: middle;\n",
       "    }\n",
       "\n",
       "    .dataframe tbody tr th {\n",
       "        vertical-align: top;\n",
       "    }\n",
       "\n",
       "    .dataframe thead th {\n",
       "        text-align: right;\n",
       "    }\n",
       "</style>\n",
       "<table border=\"1\" class=\"dataframe\">\n",
       "  <thead>\n",
       "    <tr style=\"text-align: right;\">\n",
       "      <th></th>\n",
       "      <th>B004ANMWPY</th>\n",
       "      <th>B004DLNC4I</th>\n",
       "      <th>B004DLPXAO</th>\n",
       "      <th>B004DM1OAQ</th>\n",
       "      <th>B004DPC5Y2</th>\n",
       "      <th>B004DPCSKI</th>\n",
       "      <th>B004DPIEF6</th>\n",
       "      <th>B004EBZX6W</th>\n",
       "      <th>B004EFYZ1C</th>\n",
       "      <th>B004FOA84A</th>\n",
       "      <th>...</th>\n",
       "      <th>B00IZLM8MY</th>\n",
       "      <th>B00J206J5E</th>\n",
       "      <th>B00JOT3HQ2</th>\n",
       "      <th>B00JTKDTLE</th>\n",
       "      <th>B00JV858HM</th>\n",
       "      <th>B00JVZ0DQG</th>\n",
       "      <th>B00K7C17QW</th>\n",
       "      <th>B00K7WGUKA</th>\n",
       "      <th>B00KOEHQCW</th>\n",
       "      <th>B00KWVZ750</th>\n",
       "    </tr>\n",
       "  </thead>\n",
       "  <tbody>\n",
       "    <tr>\n",
       "      <th>B004ANMWPY</th>\n",
       "      <td>1.000000</td>\n",
       "      <td>0.022222</td>\n",
       "      <td>0.076923</td>\n",
       "      <td>0.000000</td>\n",
       "      <td>0.000000</td>\n",
       "      <td>0.000000</td>\n",
       "      <td>0.000000</td>\n",
       "      <td>0.069767</td>\n",
       "      <td>0.048780</td>\n",
       "      <td>0.020833</td>\n",
       "      <td>...</td>\n",
       "      <td>0.0</td>\n",
       "      <td>0.000000</td>\n",
       "      <td>0.000000</td>\n",
       "      <td>0.000000</td>\n",
       "      <td>0.023810</td>\n",
       "      <td>0.000000</td>\n",
       "      <td>0.000000</td>\n",
       "      <td>0.0</td>\n",
       "      <td>0.000000</td>\n",
       "      <td>0.000000</td>\n",
       "    </tr>\n",
       "    <tr>\n",
       "      <th>B004DLNC4I</th>\n",
       "      <td>0.022222</td>\n",
       "      <td>1.000000</td>\n",
       "      <td>0.031250</td>\n",
       "      <td>0.037037</td>\n",
       "      <td>0.023256</td>\n",
       "      <td>0.033898</td>\n",
       "      <td>0.026316</td>\n",
       "      <td>0.111111</td>\n",
       "      <td>0.030769</td>\n",
       "      <td>0.013889</td>\n",
       "      <td>...</td>\n",
       "      <td>0.0</td>\n",
       "      <td>0.017241</td>\n",
       "      <td>0.026316</td>\n",
       "      <td>0.020833</td>\n",
       "      <td>0.000000</td>\n",
       "      <td>0.000000</td>\n",
       "      <td>0.023256</td>\n",
       "      <td>0.0</td>\n",
       "      <td>0.017544</td>\n",
       "      <td>0.021277</td>\n",
       "    </tr>\n",
       "    <tr>\n",
       "      <th>B004DLPXAO</th>\n",
       "      <td>0.076923</td>\n",
       "      <td>0.031250</td>\n",
       "      <td>1.000000</td>\n",
       "      <td>0.000000</td>\n",
       "      <td>0.052632</td>\n",
       "      <td>0.017857</td>\n",
       "      <td>0.027778</td>\n",
       "      <td>0.157895</td>\n",
       "      <td>0.125000</td>\n",
       "      <td>0.045455</td>\n",
       "      <td>...</td>\n",
       "      <td>0.0</td>\n",
       "      <td>0.000000</td>\n",
       "      <td>0.000000</td>\n",
       "      <td>0.000000</td>\n",
       "      <td>0.032787</td>\n",
       "      <td>0.000000</td>\n",
       "      <td>0.000000</td>\n",
       "      <td>0.0</td>\n",
       "      <td>0.000000</td>\n",
       "      <td>0.000000</td>\n",
       "    </tr>\n",
       "    <tr>\n",
       "      <th>B004DM1OAQ</th>\n",
       "      <td>0.000000</td>\n",
       "      <td>0.037037</td>\n",
       "      <td>0.000000</td>\n",
       "      <td>1.000000</td>\n",
       "      <td>0.000000</td>\n",
       "      <td>0.000000</td>\n",
       "      <td>0.000000</td>\n",
       "      <td>0.018182</td>\n",
       "      <td>0.019231</td>\n",
       "      <td>0.000000</td>\n",
       "      <td>...</td>\n",
       "      <td>0.0</td>\n",
       "      <td>0.000000</td>\n",
       "      <td>0.000000</td>\n",
       "      <td>0.029412</td>\n",
       "      <td>0.039216</td>\n",
       "      <td>0.060606</td>\n",
       "      <td>0.000000</td>\n",
       "      <td>0.0</td>\n",
       "      <td>0.000000</td>\n",
       "      <td>0.000000</td>\n",
       "    </tr>\n",
       "    <tr>\n",
       "      <th>B004DPC5Y2</th>\n",
       "      <td>0.000000</td>\n",
       "      <td>0.023256</td>\n",
       "      <td>0.052632</td>\n",
       "      <td>0.000000</td>\n",
       "      <td>1.000000</td>\n",
       "      <td>0.000000</td>\n",
       "      <td>0.019608</td>\n",
       "      <td>0.023256</td>\n",
       "      <td>0.025000</td>\n",
       "      <td>0.021739</td>\n",
       "      <td>...</td>\n",
       "      <td>0.0</td>\n",
       "      <td>0.000000</td>\n",
       "      <td>0.000000</td>\n",
       "      <td>0.045455</td>\n",
       "      <td>0.000000</td>\n",
       "      <td>0.000000</td>\n",
       "      <td>0.000000</td>\n",
       "      <td>0.0</td>\n",
       "      <td>0.000000</td>\n",
       "      <td>0.000000</td>\n",
       "    </tr>\n",
       "  </tbody>\n",
       "</table>\n",
       "<p>5 rows × 1000 columns</p>\n",
       "</div>"
      ],
      "text/plain": [
       "            B004ANMWPY  B004DLNC4I  B004DLPXAO  B004DM1OAQ  B004DPC5Y2  \\\n",
       "B004ANMWPY    1.000000    0.022222    0.076923    0.000000    0.000000   \n",
       "B004DLNC4I    0.022222    1.000000    0.031250    0.037037    0.023256   \n",
       "B004DLPXAO    0.076923    0.031250    1.000000    0.000000    0.052632   \n",
       "B004DM1OAQ    0.000000    0.037037    0.000000    1.000000    0.000000   \n",
       "B004DPC5Y2    0.000000    0.023256    0.052632    0.000000    1.000000   \n",
       "\n",
       "            B004DPCSKI  B004DPIEF6  B004EBZX6W  B004EFYZ1C  B004FOA84A  \\\n",
       "B004ANMWPY    0.000000    0.000000    0.069767    0.048780    0.020833   \n",
       "B004DLNC4I    0.033898    0.026316    0.111111    0.030769    0.013889   \n",
       "B004DLPXAO    0.017857    0.027778    0.157895    0.125000    0.045455   \n",
       "B004DM1OAQ    0.000000    0.000000    0.018182    0.019231    0.000000   \n",
       "B004DPC5Y2    0.000000    0.019608    0.023256    0.025000    0.021739   \n",
       "\n",
       "               ...      B00IZLM8MY  B00J206J5E  B00JOT3HQ2  B00JTKDTLE  \\\n",
       "B004ANMWPY     ...             0.0    0.000000    0.000000    0.000000   \n",
       "B004DLNC4I     ...             0.0    0.017241    0.026316    0.020833   \n",
       "B004DLPXAO     ...             0.0    0.000000    0.000000    0.000000   \n",
       "B004DM1OAQ     ...             0.0    0.000000    0.000000    0.029412   \n",
       "B004DPC5Y2     ...             0.0    0.000000    0.000000    0.045455   \n",
       "\n",
       "            B00JV858HM  B00JVZ0DQG  B00K7C17QW  B00K7WGUKA  B00KOEHQCW  \\\n",
       "B004ANMWPY    0.023810    0.000000    0.000000         0.0    0.000000   \n",
       "B004DLNC4I    0.000000    0.000000    0.023256         0.0    0.017544   \n",
       "B004DLPXAO    0.032787    0.000000    0.000000         0.0    0.000000   \n",
       "B004DM1OAQ    0.039216    0.060606    0.000000         0.0    0.000000   \n",
       "B004DPC5Y2    0.000000    0.000000    0.000000         0.0    0.000000   \n",
       "\n",
       "            B00KWVZ750  \n",
       "B004ANMWPY    0.000000  \n",
       "B004DLNC4I    0.021277  \n",
       "B004DLPXAO    0.000000  \n",
       "B004DM1OAQ    0.000000  \n",
       "B004DPC5Y2    0.000000  \n",
       "\n",
       "[5 rows x 1000 columns]"
      ]
     },
     "execution_count": 108,
     "metadata": {},
     "output_type": "execute_result"
    }
   ],
   "source": [
    "pd.DataFrame(item_item_similarity).head()"
   ]
  },
  {
   "cell_type": "code",
   "execution_count": 109,
   "metadata": {},
   "outputs": [],
   "source": [
    "item_item_sim_df = pd.DataFrame(item_item_similarity)"
   ]
  },
  {
   "cell_type": "code",
   "execution_count": null,
   "metadata": {},
   "outputs": [],
   "source": []
  },
  {
   "cell_type": "code",
   "execution_count": 110,
   "metadata": {},
   "outputs": [],
   "source": [
    "def recommend_similar_items(item_itemID, k=10):\n",
    "    \n",
    "    #look up in item_item_sim dataframe\n",
    "    \n",
    "    # sort them by sim score\n",
    "    \n",
    "    # return top K\n",
    "    \n",
    "    pass"
   ]
  },
  {
   "cell_type": "code",
   "execution_count": null,
   "metadata": {},
   "outputs": [],
   "source": []
  },
  {
   "cell_type": "code",
   "execution_count": null,
   "metadata": {},
   "outputs": [],
   "source": []
  },
  {
   "cell_type": "code",
   "execution_count": null,
   "metadata": {},
   "outputs": [],
   "source": []
  },
  {
   "cell_type": "code",
   "execution_count": null,
   "metadata": {},
   "outputs": [],
   "source": []
  },
  {
   "cell_type": "code",
   "execution_count": null,
   "metadata": {},
   "outputs": [],
   "source": []
  },
  {
   "cell_type": "code",
   "execution_count": null,
   "metadata": {},
   "outputs": [],
   "source": []
  },
  {
   "cell_type": "markdown",
   "metadata": {},
   "source": [
    "### user-user Similarity"
   ]
  },
  {
   "cell_type": "code",
   "execution_count": null,
   "metadata": {},
   "outputs": [],
   "source": []
  },
  {
   "cell_type": "code",
   "execution_count": null,
   "metadata": {},
   "outputs": [],
   "source": [
    "# exercise"
   ]
  },
  {
   "cell_type": "code",
   "execution_count": null,
   "metadata": {},
   "outputs": [],
   "source": []
  },
  {
   "cell_type": "code",
   "execution_count": null,
   "metadata": {},
   "outputs": [],
   "source": []
  },
  {
   "cell_type": "code",
   "execution_count": null,
   "metadata": {},
   "outputs": [],
   "source": []
  },
  {
   "cell_type": "code",
   "execution_count": null,
   "metadata": {},
   "outputs": [],
   "source": []
  },
  {
   "cell_type": "code",
   "execution_count": null,
   "metadata": {},
   "outputs": [],
   "source": []
  },
  {
   "cell_type": "code",
   "execution_count": null,
   "metadata": {},
   "outputs": [],
   "source": []
  },
  {
   "cell_type": "code",
   "execution_count": null,
   "metadata": {},
   "outputs": [],
   "source": []
  },
  {
   "cell_type": "markdown",
   "metadata": {},
   "source": [
    "### Matrix Factorization Based Approach"
   ]
  },
  {
   "cell_type": "markdown",
   "metadata": {},
   "source": [
    "<img src='images/mf.jpeg'>\n",
    "\n",
    "<br>"
   ]
  },
  {
   "cell_type": "code",
   "execution_count": 25,
   "metadata": {},
   "outputs": [],
   "source": [
    "# data preparation"
   ]
  },
  {
   "cell_type": "code",
   "execution_count": 111,
   "metadata": {},
   "outputs": [
    {
     "data": {
      "text/html": [
       "<div>\n",
       "<style scoped>\n",
       "    .dataframe tbody tr th:only-of-type {\n",
       "        vertical-align: middle;\n",
       "    }\n",
       "\n",
       "    .dataframe tbody tr th {\n",
       "        vertical-align: top;\n",
       "    }\n",
       "\n",
       "    .dataframe thead th {\n",
       "        text-align: right;\n",
       "    }\n",
       "</style>\n",
       "<table border=\"1\" class=\"dataframe\">\n",
       "  <thead>\n",
       "    <tr style=\"text-align: right;\">\n",
       "      <th></th>\n",
       "      <th>reviewerID</th>\n",
       "      <th>itemID</th>\n",
       "      <th>rating</th>\n",
       "      <th>like</th>\n",
       "    </tr>\n",
       "  </thead>\n",
       "  <tbody>\n",
       "    <tr>\n",
       "      <th>356</th>\n",
       "      <td>A315MDHWT29JK9</td>\n",
       "      <td>B004ANMWPY</td>\n",
       "      <td>5.0</td>\n",
       "      <td>True</td>\n",
       "    </tr>\n",
       "    <tr>\n",
       "      <th>374</th>\n",
       "      <td>AQRW3O94JUV8F</td>\n",
       "      <td>B004ANMWPY</td>\n",
       "      <td>5.0</td>\n",
       "      <td>True</td>\n",
       "    </tr>\n",
       "    <tr>\n",
       "      <th>402</th>\n",
       "      <td>ACSB6YEM3Q6Q1</td>\n",
       "      <td>B004ANMWPY</td>\n",
       "      <td>5.0</td>\n",
       "      <td>True</td>\n",
       "    </tr>\n",
       "    <tr>\n",
       "      <th>429</th>\n",
       "      <td>A36A1ZYZH8568P</td>\n",
       "      <td>B004ANMWPY</td>\n",
       "      <td>4.0</td>\n",
       "      <td>True</td>\n",
       "    </tr>\n",
       "    <tr>\n",
       "      <th>431</th>\n",
       "      <td>ACX8G3IW95BNE</td>\n",
       "      <td>B004ANMWPY</td>\n",
       "      <td>5.0</td>\n",
       "      <td>True</td>\n",
       "    </tr>\n",
       "  </tbody>\n",
       "</table>\n",
       "</div>"
      ],
      "text/plain": [
       "         reviewerID      itemID  rating  like\n",
       "356  A315MDHWT29JK9  B004ANMWPY     5.0  True\n",
       "374   AQRW3O94JUV8F  B004ANMWPY     5.0  True\n",
       "402   ACSB6YEM3Q6Q1  B004ANMWPY     5.0  True\n",
       "429  A36A1ZYZH8568P  B004ANMWPY     4.0  True\n",
       "431   ACX8G3IW95BNE  B004ANMWPY     5.0  True"
      ]
     },
     "execution_count": 111,
     "metadata": {},
     "output_type": "execute_result"
    }
   ],
   "source": [
    "data_long_format.head()"
   ]
  },
  {
   "cell_type": "code",
   "execution_count": 113,
   "metadata": {},
   "outputs": [
    {
     "data": {
      "text/html": [
       "<div>\n",
       "<style scoped>\n",
       "    .dataframe tbody tr th:only-of-type {\n",
       "        vertical-align: middle;\n",
       "    }\n",
       "\n",
       "    .dataframe tbody tr th {\n",
       "        vertical-align: top;\n",
       "    }\n",
       "\n",
       "    .dataframe thead th {\n",
       "        text-align: right;\n",
       "    }\n",
       "</style>\n",
       "<table border=\"1\" class=\"dataframe\">\n",
       "  <thead>\n",
       "    <tr style=\"text-align: right;\">\n",
       "      <th>itemID</th>\n",
       "      <th>B004ANMWPY</th>\n",
       "      <th>B004DLNC4I</th>\n",
       "      <th>B004DLPXAO</th>\n",
       "      <th>B004DM1OAQ</th>\n",
       "      <th>B004DPC5Y2</th>\n",
       "      <th>B004DPCSKI</th>\n",
       "      <th>B004DPIEF6</th>\n",
       "      <th>B004EBZX6W</th>\n",
       "      <th>B004EFYZ1C</th>\n",
       "      <th>B004FOA84A</th>\n",
       "      <th>...</th>\n",
       "      <th>B00IZLM8MY</th>\n",
       "      <th>B00J206J5E</th>\n",
       "      <th>B00JOT3HQ2</th>\n",
       "      <th>B00JTKDTLE</th>\n",
       "      <th>B00JV858HM</th>\n",
       "      <th>B00JVZ0DQG</th>\n",
       "      <th>B00K7C17QW</th>\n",
       "      <th>B00K7WGUKA</th>\n",
       "      <th>B00KOEHQCW</th>\n",
       "      <th>B00KWVZ750</th>\n",
       "    </tr>\n",
       "    <tr>\n",
       "      <th>reviewerID</th>\n",
       "      <th></th>\n",
       "      <th></th>\n",
       "      <th></th>\n",
       "      <th></th>\n",
       "      <th></th>\n",
       "      <th></th>\n",
       "      <th></th>\n",
       "      <th></th>\n",
       "      <th></th>\n",
       "      <th></th>\n",
       "      <th></th>\n",
       "      <th></th>\n",
       "      <th></th>\n",
       "      <th></th>\n",
       "      <th></th>\n",
       "      <th></th>\n",
       "      <th></th>\n",
       "      <th></th>\n",
       "      <th></th>\n",
       "      <th></th>\n",
       "      <th></th>\n",
       "    </tr>\n",
       "  </thead>\n",
       "  <tbody>\n",
       "    <tr>\n",
       "      <th>A09529383LS1F1DOJV46O</th>\n",
       "      <td>0.0</td>\n",
       "      <td>0.0</td>\n",
       "      <td>0.0</td>\n",
       "      <td>0.0</td>\n",
       "      <td>0.0</td>\n",
       "      <td>0.0</td>\n",
       "      <td>0.0</td>\n",
       "      <td>0.0</td>\n",
       "      <td>0.0</td>\n",
       "      <td>0.0</td>\n",
       "      <td>...</td>\n",
       "      <td>0.0</td>\n",
       "      <td>0.0</td>\n",
       "      <td>0.0</td>\n",
       "      <td>0.0</td>\n",
       "      <td>5.0</td>\n",
       "      <td>0.0</td>\n",
       "      <td>0.0</td>\n",
       "      <td>0.0</td>\n",
       "      <td>0.0</td>\n",
       "      <td>0.0</td>\n",
       "    </tr>\n",
       "    <tr>\n",
       "      <th>A100VWQDTPCP7K</th>\n",
       "      <td>0.0</td>\n",
       "      <td>0.0</td>\n",
       "      <td>0.0</td>\n",
       "      <td>0.0</td>\n",
       "      <td>0.0</td>\n",
       "      <td>0.0</td>\n",
       "      <td>0.0</td>\n",
       "      <td>0.0</td>\n",
       "      <td>0.0</td>\n",
       "      <td>0.0</td>\n",
       "      <td>...</td>\n",
       "      <td>0.0</td>\n",
       "      <td>0.0</td>\n",
       "      <td>0.0</td>\n",
       "      <td>0.0</td>\n",
       "      <td>0.0</td>\n",
       "      <td>0.0</td>\n",
       "      <td>0.0</td>\n",
       "      <td>0.0</td>\n",
       "      <td>0.0</td>\n",
       "      <td>0.0</td>\n",
       "    </tr>\n",
       "    <tr>\n",
       "      <th>A10ABATOE1LMSQ</th>\n",
       "      <td>0.0</td>\n",
       "      <td>0.0</td>\n",
       "      <td>0.0</td>\n",
       "      <td>0.0</td>\n",
       "      <td>0.0</td>\n",
       "      <td>0.0</td>\n",
       "      <td>0.0</td>\n",
       "      <td>0.0</td>\n",
       "      <td>0.0</td>\n",
       "      <td>0.0</td>\n",
       "      <td>...</td>\n",
       "      <td>0.0</td>\n",
       "      <td>0.0</td>\n",
       "      <td>0.0</td>\n",
       "      <td>0.0</td>\n",
       "      <td>0.0</td>\n",
       "      <td>0.0</td>\n",
       "      <td>0.0</td>\n",
       "      <td>0.0</td>\n",
       "      <td>0.0</td>\n",
       "      <td>0.0</td>\n",
       "    </tr>\n",
       "    <tr>\n",
       "      <th>A10ANCEOWK5GBN</th>\n",
       "      <td>1.0</td>\n",
       "      <td>0.0</td>\n",
       "      <td>0.0</td>\n",
       "      <td>0.0</td>\n",
       "      <td>0.0</td>\n",
       "      <td>0.0</td>\n",
       "      <td>0.0</td>\n",
       "      <td>0.0</td>\n",
       "      <td>0.0</td>\n",
       "      <td>0.0</td>\n",
       "      <td>...</td>\n",
       "      <td>0.0</td>\n",
       "      <td>0.0</td>\n",
       "      <td>0.0</td>\n",
       "      <td>0.0</td>\n",
       "      <td>0.0</td>\n",
       "      <td>0.0</td>\n",
       "      <td>0.0</td>\n",
       "      <td>0.0</td>\n",
       "      <td>0.0</td>\n",
       "      <td>0.0</td>\n",
       "    </tr>\n",
       "    <tr>\n",
       "      <th>A10E0SPFC7DXIU</th>\n",
       "      <td>0.0</td>\n",
       "      <td>0.0</td>\n",
       "      <td>0.0</td>\n",
       "      <td>0.0</td>\n",
       "      <td>0.0</td>\n",
       "      <td>0.0</td>\n",
       "      <td>0.0</td>\n",
       "      <td>0.0</td>\n",
       "      <td>0.0</td>\n",
       "      <td>0.0</td>\n",
       "      <td>...</td>\n",
       "      <td>5.0</td>\n",
       "      <td>0.0</td>\n",
       "      <td>0.0</td>\n",
       "      <td>0.0</td>\n",
       "      <td>0.0</td>\n",
       "      <td>0.0</td>\n",
       "      <td>0.0</td>\n",
       "      <td>0.0</td>\n",
       "      <td>0.0</td>\n",
       "      <td>0.0</td>\n",
       "    </tr>\n",
       "  </tbody>\n",
       "</table>\n",
       "<p>5 rows × 1000 columns</p>\n",
       "</div>"
      ],
      "text/plain": [
       "itemID                 B004ANMWPY  B004DLNC4I  B004DLPXAO  B004DM1OAQ  \\\n",
       "reviewerID                                                              \n",
       "A09529383LS1F1DOJV46O         0.0         0.0         0.0         0.0   \n",
       "A100VWQDTPCP7K                0.0         0.0         0.0         0.0   \n",
       "A10ABATOE1LMSQ                0.0         0.0         0.0         0.0   \n",
       "A10ANCEOWK5GBN                1.0         0.0         0.0         0.0   \n",
       "A10E0SPFC7DXIU                0.0         0.0         0.0         0.0   \n",
       "\n",
       "itemID                 B004DPC5Y2  B004DPCSKI  B004DPIEF6  B004EBZX6W  \\\n",
       "reviewerID                                                              \n",
       "A09529383LS1F1DOJV46O         0.0         0.0         0.0         0.0   \n",
       "A100VWQDTPCP7K                0.0         0.0         0.0         0.0   \n",
       "A10ABATOE1LMSQ                0.0         0.0         0.0         0.0   \n",
       "A10ANCEOWK5GBN                0.0         0.0         0.0         0.0   \n",
       "A10E0SPFC7DXIU                0.0         0.0         0.0         0.0   \n",
       "\n",
       "itemID                 B004EFYZ1C  B004FOA84A     ...      B00IZLM8MY  \\\n",
       "reviewerID                                        ...                   \n",
       "A09529383LS1F1DOJV46O         0.0         0.0     ...             0.0   \n",
       "A100VWQDTPCP7K                0.0         0.0     ...             0.0   \n",
       "A10ABATOE1LMSQ                0.0         0.0     ...             0.0   \n",
       "A10ANCEOWK5GBN                0.0         0.0     ...             0.0   \n",
       "A10E0SPFC7DXIU                0.0         0.0     ...             5.0   \n",
       "\n",
       "itemID                 B00J206J5E  B00JOT3HQ2  B00JTKDTLE  B00JV858HM  \\\n",
       "reviewerID                                                              \n",
       "A09529383LS1F1DOJV46O         0.0         0.0         0.0         5.0   \n",
       "A100VWQDTPCP7K                0.0         0.0         0.0         0.0   \n",
       "A10ABATOE1LMSQ                0.0         0.0         0.0         0.0   \n",
       "A10ANCEOWK5GBN                0.0         0.0         0.0         0.0   \n",
       "A10E0SPFC7DXIU                0.0         0.0         0.0         0.0   \n",
       "\n",
       "itemID                 B00JVZ0DQG  B00K7C17QW  B00K7WGUKA  B00KOEHQCW  \\\n",
       "reviewerID                                                              \n",
       "A09529383LS1F1DOJV46O         0.0         0.0         0.0         0.0   \n",
       "A100VWQDTPCP7K                0.0         0.0         0.0         0.0   \n",
       "A10ABATOE1LMSQ                0.0         0.0         0.0         0.0   \n",
       "A10ANCEOWK5GBN                0.0         0.0         0.0         0.0   \n",
       "A10E0SPFC7DXIU                0.0         0.0         0.0         0.0   \n",
       "\n",
       "itemID                 B00KWVZ750  \n",
       "reviewerID                         \n",
       "A09529383LS1F1DOJV46O         0.0  \n",
       "A100VWQDTPCP7K                0.0  \n",
       "A10ABATOE1LMSQ                0.0  \n",
       "A10ANCEOWK5GBN                0.0  \n",
       "A10E0SPFC7DXIU                0.0  \n",
       "\n",
       "[5 rows x 1000 columns]"
      ]
     },
     "execution_count": 113,
     "metadata": {},
     "output_type": "execute_result"
    }
   ],
   "source": [
    "data_wide_format = data_long_format.pivot(index='reviewerID',columns='itemID',values='rating').fillna(0)\n",
    "data_wide_format.head()"
   ]
  },
  {
   "cell_type": "code",
   "execution_count": 121,
   "metadata": {},
   "outputs": [
    {
     "data": {
      "text/plain": [
       "(997, 1000)"
      ]
     },
     "execution_count": 121,
     "metadata": {},
     "output_type": "execute_result"
    }
   ],
   "source": [
    "data_wide_format.shape"
   ]
  },
  {
   "cell_type": "code",
   "execution_count": 116,
   "metadata": {},
   "outputs": [
    {
     "name": "stderr",
     "output_type": "stream",
     "text": [
      "/Users/saikat.dey/miniconda3/envs/rs/lib/python3.6/site-packages/ipykernel_launcher.py:1: FutureWarning: Method .as_matrix will be removed in a future version. Use .values instead.\n",
      "  \"\"\"Entry point for launching an IPython kernel.\n"
     ]
    }
   ],
   "source": [
    "R = data_wide_format.as_matrix()"
   ]
  },
  {
   "cell_type": "code",
   "execution_count": 118,
   "metadata": {},
   "outputs": [],
   "source": [
    "rating_mean = np.mean(R,axis=1)"
   ]
  },
  {
   "cell_type": "code",
   "execution_count": 123,
   "metadata": {},
   "outputs": [
    {
     "data": {
      "text/plain": [
       "array([0.05 , 0.123, 0.129, 0.075, 0.158, 0.092, 0.143, 0.156, 0.074,\n",
       "       0.089])"
      ]
     },
     "execution_count": 123,
     "metadata": {},
     "output_type": "execute_result"
    }
   ],
   "source": [
    "rating_mean[:10]"
   ]
  },
  {
   "cell_type": "code",
   "execution_count": 120,
   "metadata": {},
   "outputs": [
    {
     "data": {
      "text/plain": [
       "(997,)"
      ]
     },
     "execution_count": 120,
     "metadata": {},
     "output_type": "execute_result"
    }
   ],
   "source": [
    "rating_mean.shape"
   ]
  },
  {
   "cell_type": "code",
   "execution_count": 124,
   "metadata": {},
   "outputs": [],
   "source": [
    "R_demeaned = R - rating_mean.reshape(-1,1)"
   ]
  },
  {
   "cell_type": "code",
   "execution_count": 125,
   "metadata": {},
   "outputs": [
    {
     "data": {
      "text/plain": [
       "array([[-0.05 , -0.05 , -0.05 , ..., -0.05 , -0.05 , -0.05 ],\n",
       "       [-0.123, -0.123, -0.123, ..., -0.123, -0.123, -0.123],\n",
       "       [-0.129, -0.129, -0.129, ..., -0.129, -0.129, -0.129],\n",
       "       ...,\n",
       "       [-0.043, -0.043,  4.957, ..., -0.043, -0.043, -0.043],\n",
       "       [-0.039, -0.039, -0.039, ..., -0.039, -0.039, -0.039],\n",
       "       [-0.07 , -0.07 , -0.07 , ..., -0.07 , -0.07 , -0.07 ]])"
      ]
     },
     "execution_count": 125,
     "metadata": {},
     "output_type": "execute_result"
    }
   ],
   "source": [
    "R_demeaned"
   ]
  },
  {
   "cell_type": "code",
   "execution_count": 131,
   "metadata": {},
   "outputs": [
    {
     "data": {
      "text/plain": [
       "(997, 1000)"
      ]
     },
     "execution_count": 131,
     "metadata": {},
     "output_type": "execute_result"
    }
   ],
   "source": [
    "R_demeaned.shape"
   ]
  },
  {
   "cell_type": "code",
   "execution_count": null,
   "metadata": {},
   "outputs": [],
   "source": []
  },
  {
   "cell_type": "code",
   "execution_count": 26,
   "metadata": {},
   "outputs": [],
   "source": [
    "# matrix factorization svds"
   ]
  },
  {
   "cell_type": "code",
   "execution_count": 126,
   "metadata": {},
   "outputs": [],
   "source": [
    "from scipy.sparse.linalg import svds\n",
    "u, sigma, vt = svds(R_demeaned,k=10)"
   ]
  },
  {
   "cell_type": "code",
   "execution_count": 128,
   "metadata": {},
   "outputs": [
    {
     "data": {
      "text/plain": [
       "(997, 10)"
      ]
     },
     "execution_count": 128,
     "metadata": {},
     "output_type": "execute_result"
    }
   ],
   "source": [
    "u.shape"
   ]
  },
  {
   "cell_type": "code",
   "execution_count": 132,
   "metadata": {},
   "outputs": [
    {
     "data": {
      "text/plain": [
       "(10, 10)"
      ]
     },
     "execution_count": 132,
     "metadata": {},
     "output_type": "execute_result"
    }
   ],
   "source": [
    "sigma = np.diag(sigma)\n",
    "sigma.shape"
   ]
  },
  {
   "cell_type": "code",
   "execution_count": 130,
   "metadata": {},
   "outputs": [
    {
     "data": {
      "text/plain": [
       "(10, 1000)"
      ]
     },
     "execution_count": 130,
     "metadata": {},
     "output_type": "execute_result"
    }
   ],
   "source": [
    "vt.shape"
   ]
  },
  {
   "cell_type": "code",
   "execution_count": null,
   "metadata": {},
   "outputs": [],
   "source": []
  },
  {
   "cell_type": "code",
   "execution_count": null,
   "metadata": {},
   "outputs": [],
   "source": []
  },
  {
   "cell_type": "code",
   "execution_count": 27,
   "metadata": {},
   "outputs": [],
   "source": [
    "# predictions"
   ]
  },
  {
   "cell_type": "code",
   "execution_count": 145,
   "metadata": {},
   "outputs": [
    {
     "data": {
      "text/plain": [
       "array([[0., 0., 0., ..., 0., 0., 0.],\n",
       "       [0., 0., 0., ..., 0., 0., 0.],\n",
       "       [0., 0., 0., ..., 0., 0., 0.],\n",
       "       ...,\n",
       "       [0., 0., 5., ..., 0., 0., 0.],\n",
       "       [0., 0., 0., ..., 0., 0., 0.],\n",
       "       [0., 0., 0., ..., 0., 0., 0.]])"
      ]
     },
     "execution_count": 145,
     "metadata": {},
     "output_type": "execute_result"
    }
   ],
   "source": [
    "R"
   ]
  },
  {
   "cell_type": "code",
   "execution_count": null,
   "metadata": {},
   "outputs": [],
   "source": []
  },
  {
   "cell_type": "code",
   "execution_count": 151,
   "metadata": {},
   "outputs": [],
   "source": [
    "prediction_df = pd.DataFrame(np.dot(np.dot(u,sigma),vt) + rating_mean.reshape(-1,1))"
   ]
  },
  {
   "cell_type": "code",
   "execution_count": 158,
   "metadata": {},
   "outputs": [],
   "source": [
    "prediction_df.columns = data_wide_format.columns\n",
    "prediction_df.index = data_wide_format.index"
   ]
  },
  {
   "cell_type": "code",
   "execution_count": 159,
   "metadata": {},
   "outputs": [
    {
     "data": {
      "text/html": [
       "<div>\n",
       "<style scoped>\n",
       "    .dataframe tbody tr th:only-of-type {\n",
       "        vertical-align: middle;\n",
       "    }\n",
       "\n",
       "    .dataframe tbody tr th {\n",
       "        vertical-align: top;\n",
       "    }\n",
       "\n",
       "    .dataframe thead th {\n",
       "        text-align: right;\n",
       "    }\n",
       "</style>\n",
       "<table border=\"1\" class=\"dataframe\">\n",
       "  <thead>\n",
       "    <tr style=\"text-align: right;\">\n",
       "      <th>itemID</th>\n",
       "      <th>B004ANMWPY</th>\n",
       "      <th>B004DLNC4I</th>\n",
       "      <th>B004DLPXAO</th>\n",
       "      <th>B004DM1OAQ</th>\n",
       "      <th>B004DPC5Y2</th>\n",
       "      <th>B004DPCSKI</th>\n",
       "      <th>B004DPIEF6</th>\n",
       "      <th>B004EBZX6W</th>\n",
       "      <th>B004EFYZ1C</th>\n",
       "      <th>B004FOA84A</th>\n",
       "      <th>...</th>\n",
       "      <th>B00IZLM8MY</th>\n",
       "      <th>B00J206J5E</th>\n",
       "      <th>B00JOT3HQ2</th>\n",
       "      <th>B00JTKDTLE</th>\n",
       "      <th>B00JV858HM</th>\n",
       "      <th>B00JVZ0DQG</th>\n",
       "      <th>B00K7C17QW</th>\n",
       "      <th>B00K7WGUKA</th>\n",
       "      <th>B00KOEHQCW</th>\n",
       "      <th>B00KWVZ750</th>\n",
       "    </tr>\n",
       "    <tr>\n",
       "      <th>reviewerID</th>\n",
       "      <th></th>\n",
       "      <th></th>\n",
       "      <th></th>\n",
       "      <th></th>\n",
       "      <th></th>\n",
       "      <th></th>\n",
       "      <th></th>\n",
       "      <th></th>\n",
       "      <th></th>\n",
       "      <th></th>\n",
       "      <th></th>\n",
       "      <th></th>\n",
       "      <th></th>\n",
       "      <th></th>\n",
       "      <th></th>\n",
       "      <th></th>\n",
       "      <th></th>\n",
       "      <th></th>\n",
       "      <th></th>\n",
       "      <th></th>\n",
       "      <th></th>\n",
       "    </tr>\n",
       "  </thead>\n",
       "  <tbody>\n",
       "    <tr>\n",
       "      <th>A09529383LS1F1DOJV46O</th>\n",
       "      <td>-0.116727</td>\n",
       "      <td>0.044572</td>\n",
       "      <td>0.090084</td>\n",
       "      <td>0.248981</td>\n",
       "      <td>-0.034159</td>\n",
       "      <td>-0.015769</td>\n",
       "      <td>-0.172684</td>\n",
       "      <td>-0.018902</td>\n",
       "      <td>-0.217911</td>\n",
       "      <td>-0.031985</td>\n",
       "      <td>...</td>\n",
       "      <td>-0.022760</td>\n",
       "      <td>-0.096236</td>\n",
       "      <td>-0.012125</td>\n",
       "      <td>0.099551</td>\n",
       "      <td>0.405321</td>\n",
       "      <td>0.051043</td>\n",
       "      <td>0.010880</td>\n",
       "      <td>0.009449</td>\n",
       "      <td>0.088085</td>\n",
       "      <td>0.041035</td>\n",
       "    </tr>\n",
       "    <tr>\n",
       "      <th>A100VWQDTPCP7K</th>\n",
       "      <td>0.056415</td>\n",
       "      <td>-0.076363</td>\n",
       "      <td>-0.074555</td>\n",
       "      <td>-0.030397</td>\n",
       "      <td>0.122250</td>\n",
       "      <td>0.278211</td>\n",
       "      <td>0.077155</td>\n",
       "      <td>-0.118302</td>\n",
       "      <td>-0.122582</td>\n",
       "      <td>0.009736</td>\n",
       "      <td>...</td>\n",
       "      <td>0.264597</td>\n",
       "      <td>0.083380</td>\n",
       "      <td>0.170441</td>\n",
       "      <td>0.176225</td>\n",
       "      <td>0.060414</td>\n",
       "      <td>0.178900</td>\n",
       "      <td>0.131268</td>\n",
       "      <td>0.180355</td>\n",
       "      <td>0.174217</td>\n",
       "      <td>0.200311</td>\n",
       "    </tr>\n",
       "    <tr>\n",
       "      <th>A10ABATOE1LMSQ</th>\n",
       "      <td>0.013356</td>\n",
       "      <td>0.265709</td>\n",
       "      <td>-0.018853</td>\n",
       "      <td>0.208069</td>\n",
       "      <td>0.025807</td>\n",
       "      <td>0.124766</td>\n",
       "      <td>0.164930</td>\n",
       "      <td>0.011027</td>\n",
       "      <td>0.134191</td>\n",
       "      <td>0.136469</td>\n",
       "      <td>...</td>\n",
       "      <td>0.192865</td>\n",
       "      <td>-0.002625</td>\n",
       "      <td>-0.013116</td>\n",
       "      <td>0.148849</td>\n",
       "      <td>0.196897</td>\n",
       "      <td>0.315791</td>\n",
       "      <td>0.120808</td>\n",
       "      <td>0.071018</td>\n",
       "      <td>0.505437</td>\n",
       "      <td>0.194805</td>\n",
       "    </tr>\n",
       "    <tr>\n",
       "      <th>A10ANCEOWK5GBN</th>\n",
       "      <td>0.120461</td>\n",
       "      <td>0.086528</td>\n",
       "      <td>0.125596</td>\n",
       "      <td>0.160775</td>\n",
       "      <td>0.011817</td>\n",
       "      <td>-0.021264</td>\n",
       "      <td>0.032518</td>\n",
       "      <td>0.231187</td>\n",
       "      <td>0.044203</td>\n",
       "      <td>0.010446</td>\n",
       "      <td>...</td>\n",
       "      <td>-0.004196</td>\n",
       "      <td>-0.023045</td>\n",
       "      <td>0.032737</td>\n",
       "      <td>0.038339</td>\n",
       "      <td>0.158245</td>\n",
       "      <td>0.025058</td>\n",
       "      <td>0.035662</td>\n",
       "      <td>0.018878</td>\n",
       "      <td>0.067494</td>\n",
       "      <td>0.026724</td>\n",
       "    </tr>\n",
       "    <tr>\n",
       "      <th>A10E0SPFC7DXIU</th>\n",
       "      <td>-0.113937</td>\n",
       "      <td>0.136343</td>\n",
       "      <td>-0.242196</td>\n",
       "      <td>0.160299</td>\n",
       "      <td>-0.094325</td>\n",
       "      <td>0.534982</td>\n",
       "      <td>0.204337</td>\n",
       "      <td>-0.090864</td>\n",
       "      <td>0.010328</td>\n",
       "      <td>0.191260</td>\n",
       "      <td>...</td>\n",
       "      <td>0.475761</td>\n",
       "      <td>0.041884</td>\n",
       "      <td>0.074607</td>\n",
       "      <td>0.169487</td>\n",
       "      <td>0.176157</td>\n",
       "      <td>0.381778</td>\n",
       "      <td>0.146182</td>\n",
       "      <td>0.055404</td>\n",
       "      <td>0.468775</td>\n",
       "      <td>0.171603</td>\n",
       "    </tr>\n",
       "  </tbody>\n",
       "</table>\n",
       "<p>5 rows × 1000 columns</p>\n",
       "</div>"
      ],
      "text/plain": [
       "itemID                 B004ANMWPY  B004DLNC4I  B004DLPXAO  B004DM1OAQ  \\\n",
       "reviewerID                                                              \n",
       "A09529383LS1F1DOJV46O   -0.116727    0.044572    0.090084    0.248981   \n",
       "A100VWQDTPCP7K           0.056415   -0.076363   -0.074555   -0.030397   \n",
       "A10ABATOE1LMSQ           0.013356    0.265709   -0.018853    0.208069   \n",
       "A10ANCEOWK5GBN           0.120461    0.086528    0.125596    0.160775   \n",
       "A10E0SPFC7DXIU          -0.113937    0.136343   -0.242196    0.160299   \n",
       "\n",
       "itemID                 B004DPC5Y2  B004DPCSKI  B004DPIEF6  B004EBZX6W  \\\n",
       "reviewerID                                                              \n",
       "A09529383LS1F1DOJV46O   -0.034159   -0.015769   -0.172684   -0.018902   \n",
       "A100VWQDTPCP7K           0.122250    0.278211    0.077155   -0.118302   \n",
       "A10ABATOE1LMSQ           0.025807    0.124766    0.164930    0.011027   \n",
       "A10ANCEOWK5GBN           0.011817   -0.021264    0.032518    0.231187   \n",
       "A10E0SPFC7DXIU          -0.094325    0.534982    0.204337   -0.090864   \n",
       "\n",
       "itemID                 B004EFYZ1C  B004FOA84A     ...      B00IZLM8MY  \\\n",
       "reviewerID                                        ...                   \n",
       "A09529383LS1F1DOJV46O   -0.217911   -0.031985     ...       -0.022760   \n",
       "A100VWQDTPCP7K          -0.122582    0.009736     ...        0.264597   \n",
       "A10ABATOE1LMSQ           0.134191    0.136469     ...        0.192865   \n",
       "A10ANCEOWK5GBN           0.044203    0.010446     ...       -0.004196   \n",
       "A10E0SPFC7DXIU           0.010328    0.191260     ...        0.475761   \n",
       "\n",
       "itemID                 B00J206J5E  B00JOT3HQ2  B00JTKDTLE  B00JV858HM  \\\n",
       "reviewerID                                                              \n",
       "A09529383LS1F1DOJV46O   -0.096236   -0.012125    0.099551    0.405321   \n",
       "A100VWQDTPCP7K           0.083380    0.170441    0.176225    0.060414   \n",
       "A10ABATOE1LMSQ          -0.002625   -0.013116    0.148849    0.196897   \n",
       "A10ANCEOWK5GBN          -0.023045    0.032737    0.038339    0.158245   \n",
       "A10E0SPFC7DXIU           0.041884    0.074607    0.169487    0.176157   \n",
       "\n",
       "itemID                 B00JVZ0DQG  B00K7C17QW  B00K7WGUKA  B00KOEHQCW  \\\n",
       "reviewerID                                                              \n",
       "A09529383LS1F1DOJV46O    0.051043    0.010880    0.009449    0.088085   \n",
       "A100VWQDTPCP7K           0.178900    0.131268    0.180355    0.174217   \n",
       "A10ABATOE1LMSQ           0.315791    0.120808    0.071018    0.505437   \n",
       "A10ANCEOWK5GBN           0.025058    0.035662    0.018878    0.067494   \n",
       "A10E0SPFC7DXIU           0.381778    0.146182    0.055404    0.468775   \n",
       "\n",
       "itemID                 B00KWVZ750  \n",
       "reviewerID                         \n",
       "A09529383LS1F1DOJV46O    0.041035  \n",
       "A100VWQDTPCP7K           0.200311  \n",
       "A10ABATOE1LMSQ           0.194805  \n",
       "A10ANCEOWK5GBN           0.026724  \n",
       "A10E0SPFC7DXIU           0.171603  \n",
       "\n",
       "[5 rows x 1000 columns]"
      ]
     },
     "execution_count": 159,
     "metadata": {},
     "output_type": "execute_result"
    }
   ],
   "source": [
    "prediction_df.head()"
   ]
  },
  {
   "cell_type": "code",
   "execution_count": 161,
   "metadata": {},
   "outputs": [
    {
     "data": {
      "text/plain": [
       "[2.2318318866187603,\n",
       " 1.422355851771308,\n",
       " 1.2850573852879026,\n",
       " 1.2517766911099582,\n",
       " 1.179525680324379,\n",
       " 1.092597620306358,\n",
       " 0.9030518142658729,\n",
       " 0.8806581289059094,\n",
       " 0.7824086833462489,\n",
       " 0.7440877435148022]"
      ]
     },
     "execution_count": 161,
     "metadata": {},
     "output_type": "execute_result"
    }
   ],
   "source": [
    "sorted(prediction_df.iloc[0],reverse=True)[:10]"
   ]
  },
  {
   "cell_type": "code",
   "execution_count": null,
   "metadata": {},
   "outputs": [],
   "source": []
  },
  {
   "cell_type": "code",
   "execution_count": null,
   "metadata": {},
   "outputs": [],
   "source": []
  },
  {
   "cell_type": "code",
   "execution_count": null,
   "metadata": {},
   "outputs": [],
   "source": []
  },
  {
   "cell_type": "markdown",
   "metadata": {},
   "source": [
    "# What next ?"
   ]
  },
  {
   "cell_type": "code",
   "execution_count": null,
   "metadata": {},
   "outputs": [],
   "source": []
  },
  {
   "cell_type": "code",
   "execution_count": null,
   "metadata": {},
   "outputs": [],
   "source": []
  },
  {
   "cell_type": "code",
   "execution_count": null,
   "metadata": {},
   "outputs": [],
   "source": []
  },
  {
   "cell_type": "markdown",
   "metadata": {},
   "source": [
    "# Questions ?"
   ]
  },
  {
   "cell_type": "code",
   "execution_count": null,
   "metadata": {},
   "outputs": [],
   "source": []
  },
  {
   "cell_type": "code",
   "execution_count": null,
   "metadata": {},
   "outputs": [],
   "source": []
  },
  {
   "cell_type": "markdown",
   "metadata": {},
   "source": [
    "# References:\n",
    "\n",
    "1. [My blog post](https://medium.com/data-science-for-everyone/how-does-recommendation-systems-work-f3e1c96b14e8)\n",
    "2. https://beckernick.github.io/matrix-factorization-recommender/\n",
    "3. https://www.analyticsvidhya.com/blog/2018/06/comprehensive-guide-recommendation-engine-python/\n",
    "4. [Machine Learning Paradigms - Applications in Recommender Systems ](https://www.springer.com/in/book/9783319191348)\n",
    "5. https://towardsdatascience.com/how-did-we-build-book-recommender-systems-in-an-hour-part-2-k-nearest-neighbors-and-matrix-c04b3c2ef55c"
   ]
  },
  {
   "cell_type": "code",
   "execution_count": null,
   "metadata": {},
   "outputs": [],
   "source": []
  },
  {
   "cell_type": "code",
   "execution_count": null,
   "metadata": {},
   "outputs": [],
   "source": []
  }
 ],
 "metadata": {
  "kernelspec": {
   "display_name": "Python 3",
   "language": "python",
   "name": "python3"
  },
  "language_info": {
   "codemirror_mode": {
    "name": "ipython",
    "version": 3
   },
   "file_extension": ".py",
   "mimetype": "text/x-python",
   "name": "python",
   "nbconvert_exporter": "python",
   "pygments_lexer": "ipython3",
   "version": "3.6.5"
  }
 },
 "nbformat": 4,
 "nbformat_minor": 2
}
